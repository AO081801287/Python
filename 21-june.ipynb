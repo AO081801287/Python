{
 "cells": [
  {
   "cell_type": "code",
   "execution_count": 5,
   "metadata": {},
   "outputs": [
    {
     "name": "stdout",
     "output_type": "stream",
     "text": [
      "ravi\n",
      "7989570681\n",
      "{}\n",
      "Contact Added\n"
     ]
    }
   ],
   "source": [
    "contacts={}\n",
    "def addcontacts(name,phone):\n",
    "    if name not in contacts:\n",
    "        contacts[name]=phone\n",
    "        print(\"Contact Added\")\n",
    "    else:\n",
    "        print(\"contact already exists\"%name)\n",
    "    return\n",
    "name=input()\n",
    "phone=int(input())\n",
    "print(contacts)\n",
    "addcontacts(name,phone)\n",
    "        "
   ]
  },
  {
   "cell_type": "code",
   "execution_count": 6,
   "metadata": {},
   "outputs": [
    {
     "data": {
      "text/plain": [
       "{'ravi': 7989570681}"
      ]
     },
     "execution_count": 6,
     "metadata": {},
     "output_type": "execute_result"
    }
   ],
   "source": [
    "contacts"
   ]
  },
  {
   "cell_type": "code",
   "execution_count": 9,
   "metadata": {},
   "outputs": [
    {
     "name": "stdout",
     "output_type": "stream",
     "text": [
      "kis\n",
      "kis does not exist\n"
     ]
    }
   ],
   "source": [
    "def searchcontact(name):\n",
    "    if name in contacts:\n",
    "        print(name,\"exists\",contacts[name])\n",
    "    else:\n",
    "        print(\"%s does not exist\"% name)\n",
    "    return\n",
    "name=input()\n",
    "searchcontact(name)"
   ]
  },
  {
   "cell_type": "code",
   "execution_count": null,
   "metadata": {},
   "outputs": [],
   "source": [
    "def importcontacts(newconctacts):\n",
    "    contacts.update(newcontacts)\n",
    "    print(len(newContacts.keys()),\"contacts  added successfully\")\n",
    "    return\n",
    "name2=input()\n",
    "name3=input()\n",
    "phone2=input()\n",
    "phone3=input()\n",
    "newContacts={name2:phone2,name3:phone3}\n",
    "importcontacts(newContacts)\n"
   ]
  },
  {
   "cell_type": "code",
   "execution_count": null,
   "metadata": {},
   "outputs": [],
   "source": [
    "# Function to add contact to contacts text file\n",
    "from packages import validators\n",
    "\n",
    "def addContact(name,phone,email):\n",
    "    # store data as name,phone,email in the contacts \n",
    "    filename='Datafiles/contacts.txt'\n",
    "    if not checkContactExists(name):\n",
    "        if phoneNumberValidator(phone):\n",
    "            with open(filename,'a')as f:\n",
    "                line = \"name\" +','+ \"phone\" + ','+ \"email\"\n",
    "                f.write(line)\n",
    "            print(name,'added to contacts')\n",
    "        else:\n",
    "            print('Invalid Phone number or ')\n",
    "            return\n",
    "    else:\n",
    "        print\n",
    "addContact(\"name1\",7989570681,\"name1_@gmail.com\") \n",
    "\n",
    "# Function to check if contact already exists\n",
    "#def checkContactExists(name):\n",
    "#    filename = 'Datafiles/contacts.txt'\n",
    "#    with open(filename,'r')as f:\n",
    "#        filedata=f.read()\n",
    "#    return re.search (name,filedata)\n",
    "\n",
    "#if checkContactExists(\"name\"):\n",
    "##    print(True)\n",
    "#else:\n",
    "#    print(False)"
   ]
  },
  {
   "cell_type": "code",
   "execution_count": 20,
   "metadata": {},
   "outputs": [
    {
     "data": {
      "text/plain": [
       "65"
      ]
     },
     "execution_count": 20,
     "metadata": {},
     "output_type": "execute_result"
    }
   ],
   "source": []
  },
  {
   "cell_type": "code",
   "execution_count": null,
   "metadata": {},
   "outputs": [],
   "source": []
  },
  {
   "cell_type": "code",
   "execution_count": null,
   "metadata": {},
   "outputs": [],
   "source": []
  }
 ],
 "metadata": {
  "kernelspec": {
   "display_name": "Python 3",
   "language": "python",
   "name": "python3"
  },
  "language_info": {
   "codemirror_mode": {
    "name": "ipython",
    "version": 3
   },
   "file_extension": ".py",
   "mimetype": "text/x-python",
   "name": "python",
   "nbconvert_exporter": "python",
   "pygments_lexer": "ipython3",
   "version": "3.7.3"
  }
 },
 "nbformat": 4,
 "nbformat_minor": 2
}
