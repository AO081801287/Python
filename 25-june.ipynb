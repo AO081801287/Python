{
 "cells": [
  {
   "cell_type": "code",
   "execution_count": 10,
   "metadata": {},
   "outputs": [],
   "source": [
    "def unique(filepath):\n",
    "    unique=[]\n",
    "    feq=[]"
   ]
  },
  {
   "cell_type": "code",
   "execution_count": 4,
   "metadata": {},
   "outputs": [
    {
     "name": "stdout",
     "output_type": "stream",
     "text": [
      "0 4 1 1 1 1 1 0 0 0 "
     ]
    }
   ],
   "source": [
    "#s= 213abc456def111\n",
    "#0 4 1 1 1 1 1 0 0 0 -->Frequency of\n",
    "#count(1)->1 4 1 1 1 1 4 4 4\n",
    "\n",
    "#s = c\n",
    "#0 0 0 0 0 0 0 0 0 0\n",
    "\n",
    "#s=1234567890\n",
    "#1 1 1 1 1 1 1 1 1 1\n",
    "def digitFrequency1(s):\n",
    "    allnumbers=[]\n",
    "    for i in s:\n",
    "        if i.isdigit():\n",
    "            allnumbers.append(i)\n",
    "    #uni=uniqueData(allnumbers)\n",
    "    for i in range(0,10):\n",
    "        if str(i) not in allnumbers:\n",
    "            print(0, end= ' ')\n",
    "        else:\n",
    "            count = allnumbers.count(str(i))\n",
    "            print(count,end=' ')\n",
    "digitFrequency1('213abc456def111')"
   ]
  },
  {
   "cell_type": "code",
   "execution_count": null,
   "metadata": {},
   "outputs": [],
   "source": [
    "def mo2(s):\n",
    "    for i in range(0,10):\n",
    "        count=s.count(str(i))\n",
    "        print(count,end=\" \")\n",
    "s=input()\n",
    "mo2(s)"
   ]
  },
  {
   "cell_type": "code",
   "execution_count": null,
   "metadata": {},
   "outputs": [],
   "source": [
    "# Function to check if two string\n",
    "# abc cba ->True\n",
    "#abc abc \n",
    "# aabbcc ccbbaa -> False\n",
    "# aabbcc aaabbcc\n",
    "\n",
    "def checkAnagrams(s1,s2):\n",
    "    if len(s1)!\n",
    "    "
   ]
  },
  {
   "cell_type": "code",
   "execution_count": null,
   "metadata": {},
   "outputs": [],
   "source": [
    "# Construct the frequ\n",
    "unique=[]\n",
    "frq={}\n",
    "for i in s:\n",
    "    if i not in freq.keys():\n",
    "        freq[i]=s.count(i)\n"
   ]
  }
 ],
 "metadata": {
  "kernelspec": {
   "display_name": "Python 3",
   "language": "python",
   "name": "python3"
  },
  "language_info": {
   "codemirror_mode": {
    "name": "ipython",
    "version": 3
   },
   "file_extension": ".py",
   "mimetype": "text/x-python",
   "name": "python",
   "nbconvert_exporter": "python",
   "pygments_lexer": "ipython3",
   "version": "3.7.3"
  }
 },
 "nbformat": 4,
 "nbformat_minor": 2
}
