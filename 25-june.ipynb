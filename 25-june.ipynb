{
 "cells": [
  {
   "cell_type": "code",
   "execution_count": 10,
   "metadata": {},
   "outputs": [],
   "source": []
  },
  {
   "cell_type": "code",
   "execution_count": 4,
   "metadata": {},
   "outputs": [
    {
     "name": "stdout",
     "output_type": "stream",
     "text": [
      "0 4 1 1 1 1 1 0 0 0 "
     ]
    }
   ],
   "source": [
    "#s= 213abc456def111\n",
    "#0 4 1 1 1 1 1 0 0 0 -->Frequency of\n",
    "#count(1)->1 4 1 1 1 1 4 4 4\n",
    "\n",
    "#s = c\n",
    "#0 0 0 0 0 0 0 0 0 0\n",
    "\n",
    "#s=1234567890\n",
    "#1 1 1 1 1 1 1 1 1 1\n",
    "def digitFrequency1(s):\n",
    "    allnumbers=[]\n",
    "    for i in s:\n",
    "        if i.isdigit():\n",
    "            allnumbers.append(i)\n",
    "    #uni=uniqueData(allnumbers)\n",
    "    for i in range(0,10):\n",
    "        if str(i) not in allnumbers:\n",
    "            print(0, end= ' ')\n",
    "        else:\n",
    "            count = allnumbers.count(str(i))\n",
    "            print(count,end=' ')\n",
    "digitFrequency1('213abc456def111')"
   ]
  },
  {
   "cell_type": "code",
   "execution_count": 1,
   "metadata": {},
   "outputs": [
    {
     "name": "stdout",
     "output_type": "stream",
     "text": [
      "1 2 1 2 1 1 1 1 1 1 "
     ]
    }
   ],
   "source": [
    "def uniDa(allnumbers):\n",
    "    unque=[]\n",
    "    for n in allnumbers:\n",
    "        if n not in unque:\n",
    "            unque.append(n)\n",
    "    return unque\n",
    "\n",
    "def digitfre(s):\n",
    "    allnumbers=[]\n",
    "    for i in s:\n",
    "        if i.isdigit():\n",
    "            allnumbers.append(i)\n",
    "    un=uniDa(allnumbers)\n",
    "    for i in range(0,10):\n",
    "        if str(i) not in un:\n",
    "            print(0,end=\" \")\n",
    "        else:\n",
    "            count=allnumbers.count(str(i))\n",
    "            print(count,end=\" \")\n",
    "\n",
    "digitfre(\"09876543211adlrfkvm3\")\n"
   ]
  },
  {
   "cell_type": "code",
   "execution_count": 2,
   "metadata": {},
   "outputs": [
    {
     "name": "stdout",
     "output_type": "stream",
     "text": [
      "\"09876543211adlrfkvm3\"\n",
      "1 2 1 2 1 1 1 1 1 1 "
     ]
    }
   ],
   "source": [
    "def mo2(s):\n",
    "    for i in range(0,10):\n",
    "        count=s.count(str(i))\n",
    "        print(count,end=\" \")\n",
    "s=input()\n",
    "mo2(\"09876543211adlrfkvm3\")"
   ]
  },
  {
   "cell_type": "code",
   "execution_count": 3,
   "metadata": {},
   "outputs": [
    {
     "ename": "ModuleNotFoundError",
     "evalue": "No module named 'Packages'",
     "output_type": "error",
     "traceback": [
      "\u001b[1;31m---------------------------------------------------------------------------\u001b[0m",
      "\u001b[1;31mModuleNotFoundError\u001b[0m                       Traceback (most recent call last)",
      "\u001b[1;32m<ipython-input-3-d3713aaf519c>\u001b[0m in \u001b[0;36m<module>\u001b[1;34m\u001b[0m\n\u001b[0;32m      1\u001b[0m \u001b[1;31m#Function to add contact to contacts text file if doestn't only add\u001b[0m\u001b[1;33m\u001b[0m\u001b[1;33m\u001b[0m\u001b[1;33m\u001b[0m\u001b[0m\n\u001b[1;32m----> 2\u001b[1;33m \u001b[1;32mfrom\u001b[0m \u001b[0mPackages\u001b[0m\u001b[1;33m.\u001b[0m\u001b[0mvalidators\u001b[0m \u001b[1;32mimport\u001b[0m \u001b[0mphoneNumberValidator\u001b[0m \u001b[1;32mas\u001b[0m \u001b[0mpnv\u001b[0m \u001b[1;33m,\u001b[0m\u001b[0memailValidator\u001b[0m \u001b[1;32mas\u001b[0m \u001b[0menv\u001b[0m\u001b[1;33m\u001b[0m\u001b[1;33m\u001b[0m\u001b[0m\n\u001b[0m\u001b[0;32m      3\u001b[0m \u001b[1;33m\u001b[0m\u001b[0m\n\u001b[0;32m      4\u001b[0m \u001b[1;32mimport\u001b[0m \u001b[0mre\u001b[0m\u001b[1;33m\u001b[0m\u001b[1;33m\u001b[0m\u001b[0m\n\u001b[0;32m      5\u001b[0m \u001b[1;32mdef\u001b[0m \u001b[0maddContact\u001b[0m\u001b[1;33m(\u001b[0m\u001b[0mname\u001b[0m\u001b[1;33m,\u001b[0m\u001b[0mphone\u001b[0m\u001b[1;33m,\u001b[0m\u001b[0memail\u001b[0m\u001b[1;33m)\u001b[0m\u001b[1;33m:\u001b[0m\u001b[1;33m\u001b[0m\u001b[1;33m\u001b[0m\u001b[0m\n",
      "\u001b[1;31mModuleNotFoundError\u001b[0m: No module named 'Packages'"
     ]
    }
   ],
   "source": [
    "#Function to add contact to contacts text file if doestn't only add\n",
    "from Packages.validators import phoneNumberValidator as pnv ,emailValidator as env\n",
    "\n",
    "import re \n",
    "def addContact(name,phone,email):\n",
    "    \n",
    "    # store data as name,phone,email in the contacts file\n",
    "    filename='Data Files\\contacts.txt'\n",
    "    if not checkContactExists(name):\n",
    "        if pnv(phone) and env(email):\n",
    "            with open (filename,'a') as f:\n",
    "                line = name + ',' + str(phone) + ',' + email + '\\n'\n",
    "                f.write(line)\n",
    "            print(name,'added to contacts file')\n",
    "        else:\n",
    "            print(\"Invalid Phone Number\")\n",
    "            print(\"Invalid Email\")\n",
    "            return \n",
    "    else:\n",
    "        print(name,'already exists')\n",
    "    return\n",
    "def checkContactExists(name):\n",
    "    filename='Data Files\\contacts.txt'\n",
    "    with open (filename,'r') as f:\n",
    "        filedata=f.read()\n",
    "        pattern=name + ','\n",
    "        return re.search(pattern,filedata)\n",
    "name=input()\n",
    "phone=input()\n",
    "email=input()\n",
    "addContact(name,phone,email)\n"
   ]
  },
  {
   "cell_type": "code",
   "execution_count": null,
   "metadata": {},
   "outputs": [],
   "source": []
  },
  {
   "cell_type": "code",
   "execution_count": null,
   "metadata": {},
   "outputs": [],
   "source": []
  },
  {
   "cell_type": "code",
   "execution_count": null,
   "metadata": {},
   "outputs": [],
   "source": []
  },
  {
   "cell_type": "code",
   "execution_count": null,
   "metadata": {},
   "outputs": [],
   "source": []
  },
  {
   "cell_type": "code",
   "execution_count": null,
   "metadata": {},
   "outputs": [],
   "source": []
  },
  {
   "cell_type": "code",
   "execution_count": null,
   "metadata": {},
   "outputs": [],
   "source": [
    "# Function to check if two string\n",
    "# abc cba ->True\n",
    "#abc abc \n",
    "# aabbcc ccbbaa -> False\n",
    "# aabbcc aaabbcc\n",
    "\n",
    "def checkAnagrams(s1,s2):\n",
    "    if len(s1)!\n",
    "    "
   ]
  },
  {
   "cell_type": "code",
   "execution_count": null,
   "metadata": {},
   "outputs": [],
   "source": [
    "# Construct the frequ\n",
    "unique=[]\n",
    "frq={}\n",
    "for i in s:\n",
    "    if i not in freq.keys():\n",
    "        freq[i]=s.count(i)\n"
   ]
  }
 ],
 "metadata": {
  "kernelspec": {
   "display_name": "Python 3",
   "language": "python",
   "name": "python3"
  },
  "language_info": {
   "codemirror_mode": {
    "name": "ipython",
    "version": 3
   },
   "file_extension": ".py",
   "mimetype": "text/x-python",
   "name": "python",
   "nbconvert_exporter": "python",
   "pygments_lexer": "ipython3",
   "version": "3.7.3"
  }
 },
 "nbformat": 4,
 "nbformat_minor": 2
}
