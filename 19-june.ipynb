{
 "cells": [
  {
   "cell_type": "markdown",
   "metadata": {},
   "source": [
    "# Roy Profile Pic\n",
    "Roy wants to change his profile picture on Facebook. Now Facebook has some restriction over the dimension of picture that we can upload.\n",
    "Minimum dimension of the picture can be L x L, where L is the length of the side of square.\n",
    "\n",
    "Now Roy has N photos of various dimensions.\n",
    "Dimension of a photo is denoted as W x H \n",
    "where W - width of the photo and H - Height of the photo\n",
    "\n",
    "When any photo is uploaded following events may occur:\n",
    "\n",
    "[1] If any of the width or height is less than L, user is prompted to upload another one. Print \"UPLOAD ANOTHER\" in this case.\n",
    "[2] If width and height, both are large enough and \n",
    "(a) if the photo is already square then it is accepted. Print \"ACCEPTED\" in this case.\n",
    "(b) else user is prompted to crop it. Print \"CROP IT\" in this case.\n",
    "\n",
    "(quotes are only for clarification)\n",
    "\n",
    "Given L, N, W and H as input, print appropriate text as output.\n",
    "\n"
   ]
  },
  {
   "cell_type": "code",
   "execution_count": 1,
   "metadata": {},
   "outputs": [
    {
     "name": "stdout",
     "output_type": "stream",
     "text": [
      "180\n",
      "3\n",
      "640 480\n",
      "CROP IT\n",
      "120 300\n",
      "UPLOAD ANOTHER\n",
      "180 180\n",
      "ACCEPTED\n"
     ]
    }
   ],
   "source": [
    "def profilepic(l,w,h):\n",
    "    if w<l or h<l:\n",
    "        print(\"UPLOAD ANOTHER\")\n",
    "    elif(w==h):\n",
    "        print(\"ACCEPTED\")\n",
    "    else:\n",
    "        print(\"CROP IT\")\n",
    "l=int(input())\n",
    "n=int(input())\n",
    "for i in range(1,n+1):\n",
    "    s=input().split()\n",
    "    w=int(s[0])\n",
    "    h=int(s[1])\n",
    "    profilepic(l,w,h)"
   ]
  },
  {
   "cell_type": "markdown",
   "metadata": {},
   "source": [
    "# Goki and his breackup\n",
    "Goki recently had a breakup, so he wants to have some more friends in his life. Goki has N people who he can be friends with, so he decides to choose among them according to their skills set Yi(1<=i<=n). He wants atleast X skills in his friends.\n",
    "Help Goki find his friends.\n",
    "\n",
    " INPUT\n",
    "First line of the input contains an integer N denoting the number of people.\n",
    "\n",
    "Next line contains a single integer X - denoting the minimum skill required to be Goki's friend. \n",
    "\n",
    "Next n lines contain one integer Y - denoting the skill of ith person."
   ]
  },
  {
   "cell_type": "code",
   "execution_count": 2,
   "metadata": {},
   "outputs": [
    {
     "name": "stdout",
     "output_type": "stream",
     "text": [
      "5\n",
      "100\n",
      "110\n",
      "YES\n",
      "130\n",
      "YES\n",
      "43\n",
      "NO\n",
      "90\n",
      "NO\n",
      "100\n",
      "YES\n"
     ]
    }
   ],
   "source": [
    "def gokifriends(Y):\n",
    "    if Y>=X:\n",
    "        return \"YES\"\n",
    "    else:\n",
    "        return \"NO\"\n",
    "N=int(input())\n",
    "X=int(input())\n",
    "for i in range(1,N+1):\n",
    "    Y=int(input())\n",
    "    print(gokifriends(Y))"
   ]
  },
  {
   "cell_type": "code",
   "execution_count": null,
   "metadata": {},
   "outputs": [],
   "source": []
  }
 ],
 "metadata": {
  "kernelspec": {
   "display_name": "Python 3",
   "language": "python",
   "name": "python3"
  },
  "language_info": {
   "codemirror_mode": {
    "name": "ipython",
    "version": 3
   },
   "file_extension": ".py",
   "mimetype": "text/x-python",
   "name": "python",
   "nbconvert_exporter": "python",
   "pygments_lexer": "ipython3",
   "version": "3.7.3"
  }
 },
 "nbformat": 4,
 "nbformat_minor": 2
}
