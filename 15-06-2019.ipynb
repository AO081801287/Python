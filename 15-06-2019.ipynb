{
 "cells": [
  {
   "cell_type": "code",
   "execution_count": 2,
   "metadata": {},
   "outputs": [
    {
     "data": {
      "text/plain": [
       "['__add__',\n",
       " '__class__',\n",
       " '__contains__',\n",
       " '__delattr__',\n",
       " '__delitem__',\n",
       " '__dir__',\n",
       " '__doc__',\n",
       " '__eq__',\n",
       " '__format__',\n",
       " '__ge__',\n",
       " '__getattribute__',\n",
       " '__getitem__',\n",
       " '__gt__',\n",
       " '__hash__',\n",
       " '__iadd__',\n",
       " '__imul__',\n",
       " '__init__',\n",
       " '__init_subclass__',\n",
       " '__iter__',\n",
       " '__le__',\n",
       " '__len__',\n",
       " '__lt__',\n",
       " '__mul__',\n",
       " '__ne__',\n",
       " '__new__',\n",
       " '__reduce__',\n",
       " '__reduce_ex__',\n",
       " '__repr__',\n",
       " '__reversed__',\n",
       " '__rmul__',\n",
       " '__setattr__',\n",
       " '__setitem__',\n",
       " '__sizeof__',\n",
       " '__str__',\n",
       " '__subclasshook__',\n",
       " 'append',\n",
       " 'clear',\n",
       " 'copy',\n",
       " 'count',\n",
       " 'extend',\n",
       " 'index',\n",
       " 'insert',\n",
       " 'pop',\n",
       " 'remove',\n",
       " 'reverse',\n",
       " 'sort']"
      ]
     },
     "execution_count": 2,
     "metadata": {},
     "output_type": "execute_result"
    }
   ],
   "source": [
    "dir(list)"
   ]
  },
  {
   "cell_type": "code",
   "execution_count": 10,
   "metadata": {},
   "outputs": [
    {
     "data": {
      "text/plain": [
       "[1, 2, 3, 4, 22, [1, 2, 3]]"
      ]
     },
     "execution_count": 10,
     "metadata": {},
     "output_type": "execute_result"
    }
   ],
   "source": [
    "ls=[1,2,3,4]\n",
    "ls.append(22)\n",
    "ls\n",
    "ls.append([1,2,3])\n",
    "ls"
   ]
  },
  {
   "cell_type": "code",
   "execution_count": 9,
   "metadata": {},
   "outputs": [
    {
     "data": {
      "text/plain": [
       "[1, 2, 3, 4, 22, 1, 2, 1, 2]"
      ]
     },
     "execution_count": 9,
     "metadata": {},
     "output_type": "execute_result"
    }
   ],
   "source": [
    "ls.extend([1,2])\n",
    "ls"
   ]
  },
  {
   "cell_type": "code",
   "execution_count": null,
   "metadata": {},
   "outputs": [],
   "source": []
  },
  {
   "cell_type": "code",
   "execution_count": 19,
   "metadata": {},
   "outputs": [
    {
     "name": "stdout",
     "output_type": "stream",
     "text": [
      "-1\n"
     ]
    }
   ],
   "source": [
    "# # Neartest to zero\n",
    "li=[-1,-2,2,3,1,]\n",
    "li.sort()\n",
    "\n",
    "p1=[]\n",
    "\n",
    "for i in li:\n",
    "    p1.append(abs(i))\n",
    "p1.sort()\n",
    "if -p1[0]in li:\n",
    "    print(-p1[0])\n",
    "else:\n",
    "    print(p1[0])\n",
    "\n",
    "\n"
   ]
  },
  {
   "cell_type": "code",
   "execution_count": 28,
   "metadata": {},
   "outputs": [
    {
     "name": "stdout",
     "output_type": "stream",
     "text": [
      "-6\n"
     ]
    }
   ],
   "source": [
    "# Farthest from zero\n",
    "\n",
    "li=[-1,-2,-3,-4,-5,3,4,6,-6]\n",
    "\n",
    "li.sort()\n",
    "\n",
    "p1=[]\n",
    "\n",
    "for i in li:\n",
    "    p1.append(abs(i))\n",
    "p1.sort()\n",
    "\n",
    "if -p1[-1] in li:\n",
    "    print(-p1[-1])\n",
    "else:\n",
    "    print(p1[-1])\n",
    "    \n"
   ]
  },
  {
   "cell_type": "markdown",
   "metadata": {},
   "source": [
    "### problem-3\n",
    "you are given three numbers ,a , b and c.\n",
    "write a program ro find the largest number\n",
    "which is less than or equal to c and leaves remaiander b when divided by a."
   ]
  },
  {
   "cell_type": "code",
   "execution_count": 32,
   "metadata": {},
   "outputs": [
    {
     "data": {
      "text/plain": [
       "98"
      ]
     },
     "execution_count": 32,
     "metadata": {},
     "output_type": "execute_result"
    }
   ],
   "source": [
    " def cal (a,b,c):\n",
    "        for i in range(c,a-1,-1):\n",
    "            if i%a==b:\n",
    "                return i\n",
    "        return -1\n",
    "cal (3,2,100)"
   ]
  },
  {
   "cell_type": "code",
   "execution_count": 1,
   "metadata": {},
   "outputs": [
    {
     "name": "stdout",
     "output_type": "stream",
     "text": [
      "dsfasRGFERS\n",
      "DSFASrgfers"
     ]
    }
   ],
   "source": [
    "#Toggle\n",
    "def toggle(n):\n",
    "    for i in n:\n",
    "        if i==i.lower():\n",
    "            a=i.upper()\n",
    "        elif i==i.upper():\n",
    "            a=i.lower()\n",
    "        print(a,end=\"\")\n",
    "n=input()\n",
    "toggle(n)\n",
    "\n",
    "#"
   ]
  },
  {
   "cell_type": "code",
   "execution_count": 16,
   "metadata": {},
   "outputs": [
    {
     "name": "stdout",
     "output_type": "stream",
     "text": [
      "10\n",
      "2 3 5 7 "
     ]
    }
   ],
   "source": [
    "# You are given an integer N. You need to print the series of all prime numbers till N.\n",
    "\n",
    "def pri(n):\n",
    "    for i in range(1,n+1):\n",
    "        count=0\n",
    "        for j in range(1,i+1):\n",
    "            if i%j==0:\n",
    "                count=count+1\n",
    "        if(count==2):\n",
    "            print (i,end=\" \")\n",
    "l=int(input())\n",
    "pri(l)\n",
    "        "
   ]
  },
  {
   "cell_type": "code",
   "execution_count": 18,
   "metadata": {},
   "outputs": [
    {
     "name": "stdout",
     "output_type": "stream",
     "text": [
      "121\n",
      "YES\n"
     ]
    }
   ],
   "source": [
    "# You have been given a String S. You need to find and print whether this string is a palindrome or not. \n",
    "#If yes, print \"YES\" (without quotes), else print \"NO\" (without quotes).\n",
    "\n",
    "\n",
    "def palin(s):\n",
    "    if s==s[::-1]:\n",
    "        print(\"YES\") \n",
    "    else:\n",
    "        print(\"NO\")\n",
    "l=input()\n",
    "palin(l)"
   ]
  },
  {
   "cell_type": "code",
   "execution_count": 3,
   "metadata": {},
   "outputs": [
    {
     "name": "stdout",
     "output_type": "stream",
     "text": [
      "5 8 5\n",
      "1\n"
     ]
    }
   ],
   "source": [
    "# You have been given 3 integers - l, r and k. Find how many numbers between l and r (both inclusive) are divisible by k. \n",
    "#You do not need to print these numbers, you just have to find their count.\n",
    "\n",
    "\n",
    "def count(l,r,k):\n",
    "    c=0\n",
    "    for i in range(l,r+1):\n",
    "        if i%k==0:\n",
    "            c+=1\n",
    "    print(c)\n",
    "s=input()\n",
    "s=s.split()\n",
    "\n",
    "i=int(s[0])\n",
    "j=int(s[1])\n",
    "k=int(s[2])\n",
    "if(i<=1000 and j<=1000 and k<=1000): \n",
    "    count(i,j,k)"
   ]
  },
  {
   "cell_type": "code",
   "execution_count": 2,
   "metadata": {},
   "outputs": [
    {
     "name": "stdout",
     "output_type": "stream",
     "text": [
      "9\n",
      "362880\n"
     ]
    }
   ],
   "source": [
    "#You have been given a positive integer N. You need to find and print the Factorial of this number. \n",
    "#The Factorial of a positive integer N refers to the product of all number in the range from 1 to N. \n",
    "#You can read more about the factorial of a number\n",
    "\n",
    "def factorial(n):\n",
    "    fact=1\n",
    "    for i in range (1,n+1):\n",
    "        fact=fact*i\n",
    "    print(fact)\n",
    "l=int(input())\n",
    "factorial(l)"
   ]
  },
  {
   "cell_type": "code",
   "execution_count": 2,
   "metadata": {},
   "outputs": [
    {
     "name": "stdout",
     "output_type": "stream",
     "text": [
      "2\n",
      "2 40 4 50\n",
      "2 10\n",
      "3 4 5 60\n",
      "2 56\n"
     ]
    }
   ],
   "source": [
    "#Rahul is a very busy persion he dont wan't to waste his time . He keeps account of duration of each and every work.\n",
    "#Now he don't even get time to calculate duration of works, So your job is to count the durations for each work and \n",
    "#give it to rahul.\n",
    "\n",
    "\n",
    "def duration(sh,sm,eh,em):\n",
    "    scm=(sh*60)+sm\n",
    "    ecm=(eh*60)+em\n",
    "    value=ecm-scm\n",
    "    print(value//60,end=\" \")\n",
    "    print(value%60)\n",
    "n=int(input())\n",
    "for i in range(n):\n",
    "    s=input().split()\n",
    "    sh=int(s[0])\n",
    "    sm=int(s[1])\n",
    "    eh=int(s[2])\n",
    "    em=int(s[3])\n",
    "    duration(sh,sm,eh,em)"
   ]
  },
  {
   "cell_type": "code",
   "execution_count": 1,
   "metadata": {},
   "outputs": [
    {
     "name": "stdout",
     "output_type": "stream",
     "text": [
      "aba\n",
      "4\n"
     ]
    }
   ],
   "source": [
    "# Consider All lowercase Alphabets of the English language. Here we consider each alphabet from a to z to have a certain \n",
    "#weight. The weight of the alphabet a is considered to be 1, b to be 2, c to be 3 and so on until z has a weight of 26. \n",
    "#In short, the weight of the alphabet a is 1, and the weight of all other alphabets is the weight of itsprevious alphabet + 1.\n",
    "#Now, you have been given a String S consisting of lowercase English characters. \n",
    "#You need to find the summation of weight of each character in this String.\n",
    "#For example, Consider the String aba\n",
    "#Here, the first character a has a weight of 1, the second character b has 2 and the third character a again\n",
    "#has a weight of 1. So the summation here is equal to : 1+2+1=4\n",
    "\n",
    "\n",
    "def charsum(s):\n",
    "    sum=0\n",
    "    for i in s:\n",
    "        sum=sum+ord(i)-96\n",
    "    print (sum)\n",
    "n=input()\n",
    "charsum(n)"
   ]
  },
  {
   "cell_type": "code",
   "execution_count": null,
   "metadata": {},
   "outputs": [],
   "source": [
    "#Given two strings of equal length, you have to tell whether they both strings are identical.\n",
    "\n",
    "#Two strings S1 and S2 are said to be identical, if any of the permutation of string S1 is equal to the string S2. \n",
    "#See Sample explanation for more details.\n",
    "\n",
    "#Input :\n",
    "\n",
    "#First line, contains an intger 'T' denoting no. of test cases.\n",
    "#Each test consists of a single line, containing two space separated strings S1 and S2 of equal length.\n",
    "\n",
    "n=int(input())\n",
    "def twostrings(s1,s2):\n",
    "    x=0\n",
    "    if len(s1)!=len(s2):\n",
    "        return \"NO\"\n",
    "    else:\n",
    "        for i in s1:\n",
    "            if i in s2:\n",
    "                continue\n",
    "            else:\n",
    "                return \"NO\"\n",
    "        return \"YES\"\n",
    "            \n",
    "for i in range (n):\n",
    "    st=input().split()\n",
    "    s1=st[0]\n",
    "    s2=st[1]\n",
    "    rs = twostrings(s1,s2)\n",
    "    print(rs)"
   ]
  },
  {
   "cell_type": "code",
   "execution_count": null,
   "metadata": {},
   "outputs": [],
   "source": []
  }
 ],
 "metadata": {
  "kernelspec": {
   "display_name": "Python 3",
   "language": "python",
   "name": "python3"
  },
  "language_info": {
   "codemirror_mode": {
    "name": "ipython",
    "version": 3
   },
   "file_extension": ".py",
   "mimetype": "text/x-python",
   "name": "python",
   "nbconvert_exporter": "python",
   "pygments_lexer": "ipython3",
   "version": "3.7.3"
  }
 },
 "nbformat": 4,
 "nbformat_minor": 2
}
