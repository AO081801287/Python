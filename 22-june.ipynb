{
 "cells": [
  {
   "cell_type": "markdown",
   "metadata": {},
   "source": [
    "## Date : 22 June 2019\n",
    "### Day Objectives\n",
    "- File Handling\n",
    "    - Basic File Data Processing\n",
    "        * Accessing and Modifying File Data\n",
    "    - Problems related to Accessing and Modifying File Data\n",
    "    - Character Count\n",
    "    - Line Count (Number files or characters in a file Count that)\n",
    "    - File size program\n",
    "    - Word Count (How do we count the words in a file)\n",
    "    - Unique Word Count\n"
   ]
  },
  {
   "cell_type": "code",
   "execution_count": 1,
   "metadata": {},
   "outputs": [
    {
     "name": "stdout",
     "output_type": "stream",
     "text": [
      "new data\n",
      "line 1\n",
      "iine 2\n",
      "line 3\n"
     ]
    }
   ],
   "source": [
    "# Read a File - File should Exist in some part of the sotorage (Read Mode)\n",
    "\n",
    "# Write to a File - Existing( append mode)  or New File(Write mode)\n",
    "\n",
    "def readFile(filePath):\n",
    "    with open(filePath, 'r') as f:\n",
    "        filedata = f.read()\n",
    "    return filedata\n",
    "\n",
    "filePath = 'Data Files/data.txt'\n",
    "print(readFile(filePath))\n"
   ]
  },
  {
   "cell_type": "code",
   "execution_count": 2,
   "metadata": {},
   "outputs": [
    {
     "data": {
      "text/plain": [
       "4"
      ]
     },
     "execution_count": 2,
     "metadata": {},
     "output_type": "execute_result"
    }
   ],
   "source": [
    "import re\n",
    "def wordcount(filePath):\n",
    "    pattern='[,\\n]'\n",
    "    #filepath='Data Files\\data.txt'\n",
    "    filedata =readFile(filePath)\n",
    "    count=len(re.split(pattern,filedata))\n",
    "    return count\n",
    "wordcount(filePath)\n"
   ]
  },
  {
   "cell_type": "code",
   "execution_count": 3,
   "metadata": {},
   "outputs": [
    {
     "name": "stdout",
     "output_type": "stream",
     "text": [
      "new data\n",
      "line 1\n",
      "iine 2\n",
      "line 3\n"
     ]
    }
   ],
   "source": [
    "# Read a File - File should Exist in some part of the sotorage (Read Mode)\n",
    "\n",
    "# Write to a File - Existing( append mode)  or New File(Write mode)\n",
    "def readFile(filePath):\n",
    "    with open(filePath, 'r') as f:\n",
    "        filedata = f.read()\n",
    "    return filedata\n",
    "\n",
    "filePath = 'Data Files/data.txt'\n",
    "print(readFile(filePath))\n"
   ]
  },
  {
   "cell_type": "code",
   "execution_count": 4,
   "metadata": {},
   "outputs": [
    {
     "name": "stdout",
     "output_type": "stream",
     "text": [
      "1\n"
     ]
    }
   ],
   "source": [
    "# Function to find the number of lines in a file\n",
    "def LileCount(filePath):\n",
    "    c=0\n",
    "    with open(filePath, 'r') as f:\n",
    "        c=c+1\n",
    "        print(c)\n",
    "\n",
    "filePath = 'Data Files/data.txt'\n",
    "LileCount(filePath)\n"
   ]
  },
  {
   "cell_type": "code",
   "execution_count": 5,
   "metadata": {},
   "outputs": [
    {
     "name": "stdout",
     "output_type": "stream",
     "text": [
      "28\n"
     ]
    }
   ],
   "source": [
    "# Function to count the number of character in a file\n",
    "def charCount(filePath):\n",
    "    c=0\n",
    "    with open(filePath, 'r') as f:\n",
    "        filedata=f.read()\n",
    "        for i in range (1,len(filedata)):\n",
    "            #print(len(filedata))\n",
    "            c=c+1\n",
    "        print(c)\n",
    "        \n",
    "\n",
    "filePath = 'Data Files/data.txt'\n",
    "charCount(filePath)\n"
   ]
  },
  {
   "cell_type": "code",
   "execution_count": 6,
   "metadata": {},
   "outputs": [
    {
     "name": "stdout",
     "output_type": "stream",
     "text": [
      "112\n"
     ]
    }
   ],
   "source": [
    "# Function to find the size of the character count\n",
    "def SizeOfFile(filePath):\n",
    "    c=0\n",
    "    with open(filePath, 'r') as f:\n",
    "        filedata=f.read()\n",
    "        for i in range (1,len(filedata)):\n",
    "            c=c+1\n",
    "        print(c*4)\n",
    "\n",
    "filePath = 'Data Files/data.txt'\n",
    "SizeOfFile(filePath)\n"
   ]
  },
  {
   "cell_type": "code",
   "execution_count": 7,
   "metadata": {},
   "outputs": [
    {
     "name": "stdout",
     "output_type": "stream",
     "text": [
      "['new data', 'line 1', 'iine 2', 'line 3']\n"
     ]
    },
    {
     "data": {
      "text/plain": [
       "4"
      ]
     },
     "execution_count": 7,
     "metadata": {},
     "output_type": "execute_result"
    }
   ],
   "source": [
    "# Function to find the word count of the data in a file\n",
    "import re\n",
    "def wordcount(filePath):\n",
    "    pattern='[,\\n]'\n",
    "    #filepath='Data Files\\data.txt'\n",
    "    filedata =readFile(filePath)\n",
    "    count=len(re.split(pattern,filedata))\n",
    "    print(re.split(pattern,filedata))\n",
    "    return count\n",
    "wordcount(filePath)\n"
   ]
  },
  {
   "cell_type": "code",
   "execution_count": 8,
   "metadata": {},
   "outputs": [
    {
     "name": "stdout",
     "output_type": "stream",
     "text": [
      "['n', 'e', 'w', ' ', 'd', 'a', 't', '\\n', 'l', 'i', '1', '2', '3']\n"
     ]
    }
   ],
   "source": [
    "# Function to find the unique words of the data in a file\n",
    "def Unique(filePath):\n",
    "    unique=[]\n",
    "    with open(filePath, 'r') as f:\n",
    "        filedata=f.read()\n",
    "        for i in filedata:\n",
    "            if i not in unique:\n",
    "                unique.append(i)\n",
    "        print(unique)\n",
    "\n",
    "filePath = 'Data Files/data.txt'\n",
    "Unique(filePath)\n"
   ]
  },
  {
   "cell_type": "code",
   "execution_count": 9,
   "metadata": {},
   "outputs": [
    {
     "data": {
      "text/plain": [
       "[1, 2, 3]"
      ]
     },
     "execution_count": 9,
     "metadata": {},
     "output_type": "execute_result"
    }
   ],
   "source": [
    "# Function to fet unique elements in a list\n",
    "# [1,2,3,3,2,1]------>[1,2,3]\n",
    "# Create empty unique list[]\n",
    "def uniqueData(li):\n",
    "    # create an empty unique list\n",
    "    unique=[]\n",
    "    # for every element in the main list,\n",
    "        # Checck if it exists in the unique list\n",
    "        # If it does not exist,add it to unique list\n",
    "        # else if it already exists ,move  on to the main list and add it to unique list\n",
    "        \n",
    "    for element in li:\n",
    "        if element not in unique:\n",
    "            unique.append(element)\n",
    "    return unique\n",
    "li=[1,2,3,3,2,1]\n",
    "uniqueData(li)\n"
   ]
  },
  {
   "cell_type": "code",
   "execution_count": null,
   "metadata": {},
   "outputs": [],
   "source": []
  }
 ],
 "metadata": {
  "kernelspec": {
   "display_name": "Python 3",
   "language": "python",
   "name": "python3"
  },
  "language_info": {
   "codemirror_mode": {
    "name": "ipython",
    "version": 3
   },
   "file_extension": ".py",
   "mimetype": "text/x-python",
   "name": "python",
   "nbconvert_exporter": "python",
   "pygments_lexer": "ipython3",
   "version": "3.7.3"
  }
 },
 "nbformat": 4,
 "nbformat_minor": 2
}
