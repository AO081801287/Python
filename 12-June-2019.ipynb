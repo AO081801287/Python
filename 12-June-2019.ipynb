{
 "cells": [
  {
   "cell_type": "markdown",
   "metadata": {},
   "source": [
    "# Problem Solving and Programming\n",
    "\n",
    "#### Date 12 June 2019\n",
    "\n",
    "#### Day Objective\n",
    "\n",
    "- String Slicing\n",
    "- Functions in python\n",
    "- Basic Problems related to conditional statements using functions\n",
    "- Iteration in python\n",
    "- Python DataStructures\n",
    "    * Applying DataStructures to solve problems\n",
    "- Problem set\n",
    "- Advanced Problem set(Optional)\n",
    "  * Function to calculate average of all factorials in a given range\n",
    "  * Function to generate N odd armstrong numbers\n",
    "  * Function to generate Multiplication table "
   ]
  },
  {
   "cell_type": "code",
   "execution_count": null,
   "metadata": {},
   "outputs": [],
   "source": []
  },
  {
   "cell_type": "markdown",
   "metadata": {},
   "source": [
    "# String Slicing"
   ]
  },
  {
   "cell_type": "code",
   "execution_count": 15,
   "metadata": {},
   "outputs": [
    {
     "data": {
      "text/plain": [
       "'on'"
      ]
     },
     "execution_count": 15,
     "metadata": {},
     "output_type": "execute_result"
    }
   ],
   "source": [
    "## s1 = \"python\"\n",
    "\n",
    "s1[0] # Accessing the first character in a string\n",
    "#s1[5] # Position of string\n",
    "\n",
    "s1[len(s1)-1] # last character position formula\n",
    "\n",
    "s1[-1] # another way of accessing the last characters\n",
    "\n",
    "s1[-2] # Accessing the penultimate character of the string\n",
    "\n",
    "s1[0:2] #Accessing the first two characters in  a string\n",
    "\n",
    "s1[-2:] #Accessing the last two character in a string\n",
    "\n",
    "s1[4:] #Accessing all characters 5th character to end of string"
   ]
  },
  {
   "cell_type": "code",
   "execution_count": 49,
   "metadata": {},
   "outputs": [
    {
     "data": {
      "text/plain": [
       "'nhy'"
      ]
     },
     "execution_count": 49,
     "metadata": {},
     "output_type": "execute_result"
    }
   ],
   "source": [
    "# Accessing all characters except first and last character\n",
    "\n",
    "## s1=\"python1\"\n",
    "\n",
    "s1[1:-1]\n",
    "\n",
    "# Accessing middle character in a string\n",
    "s1[len(s1)//2]\n",
    "\n",
    "s1[-1::-1] #Reverse of a string\n",
    "\n",
    "s1[-1:-3:-1]#Access last two characters in reverse order\n",
    "\n",
    "#how do you reverse the middile two charachter in an even length string\n",
    "#s1=\"python\"\n",
    "s1[len(s1)//2:len(s1)//2-2:-1]\n",
    "\n",
    "\n",
    "\n",
    "\n",
    "\n",
    "\n",
    "#Accessing alternate characters in a string\n",
    "##s1=\"python\"\n",
    "s1[::2]\n",
    "# Accessing alternate characters of string in reverse order\n",
    "s1[::-2]"
   ]
  },
  {
   "cell_type": "code",
   "execution_count": null,
   "metadata": {},
   "outputs": [],
   "source": []
  },
  {
   "cell_type": "code",
   "execution_count": 11,
   "metadata": {},
   "outputs": [
    {
     "data": {
      "text/plain": [
       "'py'"
      ]
     },
     "execution_count": 11,
     "metadata": {},
     "output_type": "execute_result"
    }
   ],
   "source": [
    "## s1 = \"python\"\n",
    "\n",
    "s1[0] # Accessing the first character in a string\n",
    "#s1[5] # Position of string\n",
    "\n",
    "s1[len(s1)-1] # last character position formula\n",
    "\n",
    "s1[-1] # another way of accessing the last characters\n",
    "\n",
    "s1[-2] # Accessing the penultimate character of the string\n",
    "\n",
    "s1[0:2] #A"
   ]
  },
  {
   "cell_type": "markdown",
   "metadata": {},
   "source": [
    "# Functions"
   ]
  },
  {
   "cell_type": "code",
   "execution_count": 2,
   "metadata": {},
   "outputs": [
    {
     "data": {
      "text/plain": [
       "'nohtyp'"
      ]
     },
     "execution_count": 2,
     "metadata": {},
     "output_type": "execute_result"
    }
   ],
   "source": [
    "# Function to reverse a string\n",
    "def reverseString(s):\n",
    "    return s[::-1]\n",
    "reverseString(\"python\")\n"
   ]
  },
  {
   "cell_type": "code",
   "execution_count": 6,
   "metadata": {},
   "outputs": [
    {
     "data": {
      "text/plain": [
       "True"
      ]
     },
     "execution_count": 6,
     "metadata": {},
     "output_type": "execute_result"
    }
   ],
   "source": [
    "#Function to check if a string is a Palindrome\n",
    "def palindrome(s):\n",
    "    if s==s[::-1]:\n",
    "        return True\n",
    "    else:\n",
    "        return False\n",
    "palindrome(\"123321\")"
   ]
  },
  {
   "cell_type": "code",
   "execution_count": 8,
   "metadata": {},
   "outputs": [
    {
     "data": {
      "text/plain": [
       "False"
      ]
     },
     "execution_count": 8,
     "metadata": {},
     "output_type": "execute_result"
    }
   ],
   "source": [
    "#Function to check if a given year is a leap year\n",
    "\n",
    "def ly(year):\n",
    "    if year%400==0 or (year % 100!=0 and year %4==0):\n",
    "        return True\n",
    "    return False\n",
    "ly(2019)"
   ]
  },
  {
   "cell_type": "code",
   "execution_count": 10,
   "metadata": {},
   "outputs": [
    {
     "data": {
      "text/plain": [
       "6"
      ]
     },
     "execution_count": 10,
     "metadata": {},
     "output_type": "execute_result"
    }
   ],
   "source": [
    "#Function to count a number of digits in a  given number\n",
    "\n",
    "def count(number):\n",
    "    return len(str(number))\n",
    "count(134590)"
   ]
  },
  {
   "cell_type": "code",
   "execution_count": 19,
   "metadata": {},
   "outputs": [
    {
     "data": {
      "text/plain": [
       "(645, 'is greatest')"
      ]
     },
     "execution_count": 19,
     "metadata": {},
     "output_type": "execute_result"
    }
   ],
   "source": [
    "# Function to identify the greatest of 4 numbers\n",
    "\n",
    "def greatest(n1,n2,n3,n4):\n",
    "    if n1>n2 and n1>n3 and n1>n4:\n",
    "        print(n1,\" is greatest\")\n",
    "    elif n2>n3 and n2>n4:\n",
    "        print(n2,\"is greatest\")\n",
    "    elif n3>n4:\n",
    "        print(n3,\"is greatest\")\n",
    "    else:\n",
    "        return n4,\"is greatest\"\n",
    "\n",
    "greatest(123,35,66,645)\n",
    "    \n",
    "        \n"
   ]
  },
  {
   "cell_type": "code",
   "execution_count": null,
   "metadata": {},
   "outputs": [],
   "source": []
  },
  {
   "cell_type": "markdown",
   "metadata": {},
   "source": [
    "### Iteration\n",
    "- for\n",
    "- while\n",
    "\n",
    "\n",
    "### For Loop In Python\n",
    "\n",
    "[101,210]\n",
    "\n",
    "for number in range(101,210+1)\n",
    "    print number\n",
    "o/p:-\n",
    "\n",
    "101\n",
    "102\n",
    ".\n",
    ".\n",
    ".\n",
    "210"
   ]
  },
  {
   "cell_type": "code",
   "execution_count": 21,
   "metadata": {},
   "outputs": [
    {
     "name": "stdout",
     "output_type": "stream",
     "text": [
      "1 2 3 4 5 6 7 8 9 10 11 12 13 14 15 16 17 18 19 20 21 22 23 24 25 26 27 28 29 30 31 32 33 34 35 36 37 38 39 40 \n",
      "1 2 3 4 5 6 7 8 9 10 11 12 13 14 15 \n"
     ]
    }
   ],
   "source": [
    "# Function to print n natural numbers\n",
    "\n",
    "def printNNaturalNumbers(n):\n",
    "    for counter in range (1,n+1):\n",
    "        print(counter,end=\" \")\n",
    "   # print()\n",
    "printNNaturalNumbers(40)\n",
    "#printNNaturalNumbers(15)\n",
    "\n",
    "    \n",
    "    "
   ]
  },
  {
   "cell_type": "code",
   "execution_count": null,
   "metadata": {},
   "outputs": [],
   "source": [
    "# Function to print N Natural numbers using while\n"
   ]
  },
  {
   "cell_type": "code",
   "execution_count": 25,
   "metadata": {},
   "outputs": [
    {
     "name": "stdout",
     "output_type": "stream",
     "text": [
      "24\n",
      "30\n"
     ]
    }
   ],
   "source": [
    "# Function to print all numbers divisible by 6 and \n",
    "# and not a factor of 100 in a given range(lb, ub) inclusive\n",
    "\n",
    "def PNDNF(lb,ub):\n",
    "    for n in range(lb,ub+1):\n",
    "        if n%6==0 and n%100!=0:\n",
    "            print(n)\n",
    "PNDNF(20,30)\n"
   ]
  },
  {
   "cell_type": "code",
   "execution_count": 57,
   "metadata": {},
   "outputs": [
    {
     "data": {
      "text/plain": [
       "360.0"
      ]
     },
     "execution_count": 57,
     "metadata": {},
     "output_type": "execute_result"
    }
   ],
   "source": [
    "# Function to find the average of cubes of all even numbers\n",
    "# in a given range(lb,ub) inclusive\n",
    "def AVG(lb,ub):\n",
    "    total=0\n",
    "    count=0\n",
    "    for even in range(lb,ub+1):\n",
    "        if even%2==0:\n",
    "            total+=even**3\n",
    "            count+=1\n",
    "    return total/count\n",
    "        \n",
    "AVG(1,10)        \n"
   ]
  },
  {
   "cell_type": "code",
   "execution_count": null,
   "metadata": {},
   "outputs": [],
   "source": []
  },
  {
   "cell_type": "code",
   "execution_count": null,
   "metadata": {},
   "outputs": [],
   "source": []
  },
  {
   "cell_type": "code",
   "execution_count": 55,
   "metadata": {},
   "outputs": [
    {
     "name": "stdout",
     "output_type": "stream",
     "text": [
      "1 2 3 4 5 6 8 10 12 15 20 24 30 40 120\n"
     ]
    }
   ],
   "source": [
    "#Function generate the list of factors for a given number\n",
    "#12->1 2 3 4 5 6 12\n",
    "\n",
    "def faclist(n):\n",
    "    for i in range(1,n//2):\n",
    "        if n%i==0:\n",
    "            print(i,end=\" \")\n",
    "    print(n)\n",
    "    return\n",
    "faclist(120)\n"
   ]
  },
  {
   "cell_type": "code",
   "execution_count": 56,
   "metadata": {},
   "outputs": [
    {
     "data": {
      "text/plain": [
       "3628800"
      ]
     },
     "execution_count": 56,
     "metadata": {},
     "output_type": "execute_result"
    }
   ],
   "source": [
    "# Function to calculate the factorial of a given number\n",
    "def fact(n):\n",
    "    fac=1\n",
    "    for i in range (2,n+1):\n",
    "        fac *=i\n",
    "    return fac\n",
    "fact(10)"
   ]
  },
  {
   "cell_type": "code",
   "execution_count": 58,
   "metadata": {},
   "outputs": [
    {
     "data": {
      "text/plain": [
       "1"
      ]
     },
     "execution_count": 58,
     "metadata": {},
     "output_type": "execute_result"
    }
   ],
   "source": [
    "# Function to check if a given number is prime\n",
    "\n",
    "def isprime(n):\n",
    "    flag=1\n",
    "    for i in range (2,n//2):\n",
    "        if n%i==0:\n",
    "            flag=0\n",
    "            return flag\n",
    "    return flag\n",
    "isprime(17)"
   ]
  },
  {
   "cell_type": "code",
   "execution_count": 60,
   "metadata": {},
   "outputs": [
    {
     "data": {
      "text/plain": [
       "10.4"
      ]
     },
     "execution_count": 60,
     "metadata": {},
     "output_type": "execute_result"
    }
   ],
   "source": [
    "# Function to calculate the  average first N Prime numbers\n",
    "\n",
    "def avgNPrimes(n):\n",
    "    primecount =0\n",
    "    sum = 0\n",
    "    seqcount=2\n",
    "    while(primecount<n):\n",
    "        if isprime(seqcount):\n",
    "            primecount +=1\n",
    "            sum +=seqcount\n",
    "        seqcount +=1\n",
    "    return sum/n\n",
    "avgNPrimes(10)"
   ]
  },
  {
   "cell_type": "code",
   "execution_count": null,
   "metadata": {},
   "outputs": [],
   "source": [
    "# Function to generate all Perfect numbers in a given range"
   ]
  },
  {
   "cell_type": "code",
   "execution_count": null,
   "metadata": {},
   "outputs": [],
   "source": [
    "# Function to print the al"
   ]
  },
  {
   "cell_type": "code",
   "execution_count": 6,
   "metadata": {},
   "outputs": [
    {
     "name": "stdout",
     "output_type": "stream",
     "text": [
      "520 518 516 514 512 510 508 506 504 502 500 "
     ]
    }
   ],
   "source": [
    "# Function to print reverse of given range in the same line\n",
    "def reversealt(lb,ub):\n",
    "    for rev in range (ub,lb-1,-2):\n",
    "        print(rev,end=\" \")\n",
    "    return\n",
    "\n",
    "reversealt(500,520)\n",
    "        \n",
    "    "
   ]
  },
  {
   "cell_type": "code",
   "execution_count": 4,
   "metadata": {},
   "outputs": [
    {
     "name": "stdout",
     "output_type": "stream",
     "text": [
      "15 13 11 9 7 5 3 1 "
     ]
    }
   ],
   "source": [
    "# print the odd numbers in reverse order in range\n",
    "def oddrev(lb,ub):\n",
    "    for odd in range(ub,lb-1,-1):\n",
    "        if odd%2==1:\n",
    "            print(odd,end= \" \")\n",
    "    return\n",
    "oddrev(1,15)"
   ]
  },
  {
   "cell_type": "code",
   "execution_count": 8,
   "metadata": {},
   "outputs": [
    {
     "data": {
      "text/plain": [
       "75"
      ]
     },
     "execution_count": 8,
     "metadata": {},
     "output_type": "execute_result"
    }
   ],
   "source": [
    "#  calculate the sum of numbers in a range\n",
    "def total(lb,ub):\n",
    "    sum=0\n",
    "    for add in range (lb,ub+1):\n",
    "        sum=sum + add\n",
    "    return sum\n",
    "\n",
    "total(10,15)"
   ]
  },
  {
   "cell_type": "code",
   "execution_count": 11,
   "metadata": {},
   "outputs": [
    {
     "data": {
      "text/plain": [
       "3.0"
      ]
     },
     "execution_count": 11,
     "metadata": {},
     "output_type": "execute_result"
    }
   ],
   "source": [
    "#  Function to calculate the average of a given range\n",
    "def avg(lb,ub):\n",
    "    sum=0\n",
    "    count=0\n",
    "    for avg in range(lb,ub+1):\n",
    "        sum=sum+avg\n",
    "        count=count+1\n",
    "    return sum/count\n",
    "avg(1,5)\n",
    "        \n",
    "        "
   ]
  },
  {
   "cell_type": "code",
   "execution_count": null,
   "metadata": {},
   "outputs": [],
   "source": [
    "# Function to calculate avg of all factorials in a given range\n",
    "def factorials(start,end):\n",
    "    for fac in range (start,end):\n",
    "        fac\n",
    "\n"
   ]
  },
  {
   "cell_type": "code",
   "execution_count": 21,
   "metadata": {},
   "outputs": [
    {
     "data": {
      "text/plain": [
       "2000"
      ]
     },
     "execution_count": 21,
     "metadata": {},
     "output_type": "execute_result"
    }
   ],
   "source": [
    "# Function to generate all leap years in a given time period\n",
    "# 2000-2020->2000 2004 2008 2012 2016 2020\n",
    "\n",
    "def Leapyear(start,end):\n",
    "    for leap in range (start,end+1):\n",
    "        if leap%400==0 or (leap%100!=0 and leap%4==0):\n",
    "            #print(leap,end=\" \")\n",
    "            return (leap)\n",
    "Leapyear(2000,2020)\n",
    "    "
   ]
  },
  {
   "cell_type": "code",
   "execution_count": 24,
   "metadata": {},
   "outputs": [
    {
     "name": "stdout",
     "output_type": "stream",
     "text": [
      "1920 1924 1928 1932 1936 1940 1944 1948 1952 1956 1960 1964 1968 1972 1976 1980 1984 1988 1992 1996 2000 2004 2008 2012 2016 "
     ]
    }
   ],
   "source": [
    "\n",
    "def Leapyear(leap):\n",
    "    if leap%400==0 or (leap%100!=0 and leap%4==0):\n",
    "        return True\n",
    "    return False\n",
    "\n",
    "def generateLeapYears(sy,ey):\n",
    "    for leap in range(sy,ey+1):\n",
    "        if Leapyear(leap):\n",
    "            print(leap,end=\" \")\n",
    "    return\n",
    "generateLeapYears(1919,2019)\n",
    "        "
   ]
  },
  {
   "cell_type": "code",
   "execution_count": 37,
   "metadata": {},
   "outputs": [
    {
     "data": {
      "text/plain": [
       "1096"
      ]
     },
     "execution_count": 37,
     "metadata": {},
     "output_type": "execute_result"
    }
   ],
   "source": [
    "# Calculate number of days in a given time period\n",
    "def days(start,end):\n",
    "    daysofyear=365\n",
    "    sum=0\n",
    "    for day in range(start,end+1):\n",
    "        if Leapyear(day):\n",
    "            sum = sum+daysofyear+1\n",
    "        else:\n",
    "            sum=sum+daysofyear\n",
    "            \n",
    "    return sum\n",
    "days(2000,2002)\n",
    "\n",
    "    \n",
    "    \n",
    "     \n",
    "    "
   ]
  },
  {
   "cell_type": "code",
   "execution_count": 39,
   "metadata": {},
   "outputs": [
    {
     "ename": "SyntaxError",
     "evalue": "duplicate argument 'm' in function definition (<ipython-input-39-8a22d88e0d6f>, line 6)",
     "output_type": "error",
     "traceback": [
      "\u001b[1;36m  File \u001b[1;32m\"<ipython-input-39-8a22d88e0d6f>\"\u001b[1;36m, line \u001b[1;32m6\u001b[0m\n\u001b[1;33m    count=1\u001b[0m\n\u001b[1;37m       ^\u001b[0m\n\u001b[1;31mSyntaxError\u001b[0m\u001b[1;31m:\u001b[0m duplicate argument 'm' in function definition\n"
     ]
    }
   ],
   "source": [
    "# Function to calculate number of hours for a given period \n",
    "# numberOfHours(11,1975,3,1999) ->\n",
    "def hours(sm,start,em,end):\n",
    "    may=24*31\n",
    "    june=24*30\n",
    "    count=1\n",
    "    for hr in range(sm,start,em,end+1):\n",
    "        if days(hours):\n",
    "            count=hr*may\n",
    "        else:\n",
    "            count=hr*june\n",
    "    return count\n",
    "hours(5,2019,6,2019)\n",
    "    \n",
    "    \n",
    "    \n",
    "    "
   ]
  },
  {
   "cell_type": "code",
   "execution_count": null,
   "metadata": {},
   "outputs": [],
   "source": []
  }
 ],
 "metadata": {
  "kernelspec": {
   "display_name": "Python 3",
   "language": "python",
   "name": "python3"
  },
  "language_info": {
   "codemirror_mode": {
    "name": "ipython",
    "version": 3
   },
   "file_extension": ".py",
   "mimetype": "text/x-python",
   "name": "python",
   "nbconvert_exporter": "python",
   "pygments_lexer": "ipython3",
   "version": "3.7.3"
  }
 },
 "nbformat": 4,
 "nbformat_minor": 2
}
