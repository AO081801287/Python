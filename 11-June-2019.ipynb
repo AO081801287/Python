{
 "cells": [
  {
   "cell_type": "markdown",
   "metadata": {},
   "source": [
    "###  MarkDownBasics\n",
    "* **Bold**\n",
    "* *Italic*\n",
    "* ***IB***\n",
    "* Noramal Text\n",
    "  * Sublist 1\n",
    "  * Sublist 2\n",
    "  \n",
    "  \n",
    "1. Order List element 1\n",
    "2. Order List element 2\n",
    "\n",
    "-[.] Option 1 <br>\n",
    "-[.] Option 2 <br>\n",
    "-[.] Option 3 <br>\n",
    "-[.] Option 4 <br>\n",
    "\n",
    "I get 10 times more traffic from [Google][] than from [Yahoo][] or [MSN][].\n",
    "\n",
    "[google]:http://google.com/         \"Google\"  \n",
    "[Yahoo]: http://search.yahoo.com/   \"Yahoo Search\"\n",
    "[msn]:   http://search.msn.com/     \"MSN Search\"\n",
    "\n",
    " printf(\"Hello Markdown\") <br>\n",
    " <https://google.com>\n",
    "\n",
    "[Jupyter Logo](Jupyterlogo.png.)\n",
    "\n",
    "<img src=\"Jupyterlogo.png\" style=\"float:left\">\n",
    "\n",
    "![Jupyter Logo](Jupyterlogo.png)"
   ]
  },
  {
   "cell_type": "markdown",
   "metadata": {},
   "source": [
    "### Python Basics\n",
    "* Python version 3.7\n",
    "\n",
    "-Scripting <br>\n",
    "-Object Oriented<br>\n",
    "-Functional<br>\n",
    "-Python doesn't have curly braces<br>\n"
   ]
  },
  {
   "cell_type": "code",
   "execution_count": 6,
   "metadata": {},
   "outputs": [
    {
     "name": "stdout",
     "output_type": "stream",
     "text": [
      "Good Afternoon ! || Hello Python\n"
     ]
    }
   ],
   "source": [
    "# Python Comments\n",
    "\n",
    "\n",
    "print (\"Good Afternoon\",\"!\",end=\" || \")  # Basic Output\n",
    "\n",
    "print (\"Hello Python\")"
   ]
  },
  {
   "cell_type": "code",
   "execution_count": null,
   "metadata": {},
   "outputs": [],
   "source": []
  },
  {
   "cell_type": "markdown",
   "metadata": {},
   "source": [
    "### Assignment "
   ]
  },
  {
   "cell_type": "code",
   "execution_count": 22,
   "metadata": {},
   "outputs": [
    {
     "name": "stdout",
     "output_type": "stream",
     "text": [
      "123 234 345\n"
     ]
    }
   ],
   "source": [
    "n1=123456 # Single Variable Assignment\n",
    "n1=n3=n4=n1 # Multi Variable Assignment of the\n",
    "\n",
    "\n",
    "a,b,c =123,234,345 # Multi Variable Assignment With Differant Values\n",
    "\n",
    "\n",
    "print(a,b,c)\n"
   ]
  },
  {
   "cell_type": "code",
   "execution_count": null,
   "metadata": {},
   "outputs": [],
   "source": []
  },
  {
   "cell_type": "markdown",
   "metadata": {},
   "source": [
    "### DataTypes & Conversion\n",
    "-int<br>\n",
    "-float<br>\n",
    "-string<br>\n",
    "-double<br>"
   ]
  },
  {
   "cell_type": "code",
   "execution_count": 46,
   "metadata": {},
   "outputs": [
    {
     "data": {
      "text/plain": [
       "12.0"
      ]
     },
     "execution_count": 46,
     "metadata": {},
     "output_type": "execute_result"
    }
   ],
   "source": [
    " type(a)\n",
    "s1 =\"Python\"\n",
    "type (s1)\n",
    "\n",
    "f1 =12.34\n",
    "type(f1)\n",
    "\n",
    "int(f1)\n",
    "str(int(f1))\n",
    "float(str(int(f1)))\n"
   ]
  },
  {
   "cell_type": "markdown",
   "metadata": {},
   "source": [
    "### Arithmetic Operations\n",
    "- +<br>\n",
    "- -\n",
    "- * \n",
    "- /\n",
    "- %\n",
    "- **"
   ]
  },
  {
   "cell_type": "code",
   "execution_count": 49,
   "metadata": {},
   "outputs": [
    {
     "data": {
      "text/plain": [
       "4.598341950135241e+107"
      ]
     },
     "execution_count": 49,
     "metadata": {},
     "output_type": "execute_result"
    }
   ],
   "source": [
    "n1%11\n",
    "\n",
    "n2=4\n",
    "\n",
    "n2**12\n",
    "\n",
    "n3=n2 ** 124\n",
    "\n",
    "type(n3)\n",
    "len(str(n3))\n",
    "n3\n",
    "\n",
    "atoms = 10**20\n",
    "len (str (atoms))\n",
    "type(str(atoms))\n",
    "\n",
    "12.2321 ** 99"
   ]
  },
  {
   "cell_type": "code",
   "execution_count": null,
   "metadata": {},
   "outputs": [],
   "source": []
  },
  {
   "cell_type": "markdown",
   "metadata": {},
   "source": [
    "### Conditionals "
   ]
  },
  {
   "cell_type": "code",
   "execution_count": 51,
   "metadata": {},
   "outputs": [
    {
     "name": "stdout",
     "output_type": "stream",
     "text": [
      "False\n"
     ]
    }
   ],
   "source": [
    "atoms < 10 ** 79\n",
    "if atoms< 10 ** 6:\n",
    "    print(\"TRUE\")\n",
    "else:\n",
    "    print(\"False\")"
   ]
  },
  {
   "cell_type": "code",
   "execution_count": 56,
   "metadata": {},
   "outputs": [
    {
     "name": "stdout",
     "output_type": "stream",
     "text": [
      "Even\n"
     ]
    }
   ],
   "source": [
    "# Check if a number is even or odd\n",
    "\n",
    "n=122\n",
    "if n%2==0:\n",
    "    print(\"Even\")\n",
    "else:\n",
    "    print(\"Odd\")"
   ]
  },
  {
   "cell_type": "code",
   "execution_count": 60,
   "metadata": {},
   "outputs": [
    {
     "name": "stdout",
     "output_type": "stream",
     "text": [
      "enter the 1st number636\n",
      "enter the 2nd number6876\n",
      "enter the 3rd number9879\n",
      "9879 is the greatest\n"
     ]
    }
   ],
   "source": [
    "# find the greatest of 3 numbers\n",
    "\n",
    "n1 =int(input(\"enter the 1st number\"))\n",
    "n2 = int(input(\"enter the 2nd number\"))\n",
    "n3 = int(input (\"enter the 3rd number\"))\n",
    "if n1 > n2 and n1 > n3:\n",
    "    print(n1, \"is the greatest\")\n",
    "elif n2 > n3:\n",
    "    print(n2,\"is the greatest\")\n",
    "else :\n",
    "    print(n3,\"is the greatest\")\n"
   ]
  },
  {
   "cell_type": "code",
   "execution_count": 2,
   "metadata": {},
   "outputs": [
    {
     "name": "stdout",
     "output_type": "stream",
     "text": [
      "enter a year2020\n",
      "2020 y is leap year\n"
     ]
    }
   ],
   "source": [
    "# Check if a year is a Leap year\n",
    "\n",
    "y=int(input(\"enter a year\"))\n",
    "\n",
    "if y%400==0 or (y%100!=0 and y%4==0):\n",
    "    print(y,\"y is leap year\")\n",
    "else:\n",
    "    print(y,\"y is not leap year\")"
   ]
  },
  {
   "cell_type": "code",
   "execution_count": 5,
   "metadata": {},
   "outputs": [
    {
     "name": "stdout",
     "output_type": "stream",
     "text": [
      "152 does't a exit numbeer\n"
     ]
    }
   ],
   "source": [
    "## Check if a number exists in a given range(inclusive)\n",
    "n1 = 152\n",
    "lb = 50\n",
    "ub = 150\n",
    "if n1>lb and n1<ub:\n",
    "    print(\"Number exits in a given range\")\n",
    "else:\n",
    "    print(n1,\"does't a exit numbeer\")"
   ]
  },
  {
   "cell_type": "code",
   "execution_count": 6,
   "metadata": {},
   "outputs": [
    {
     "name": "stdout",
     "output_type": "stream",
     "text": [
      "6\n"
     ]
    }
   ],
   "source": [
    "# no of digits in a number\n",
    "n1=123456\n",
    "print(len(str(n1)))"
   ]
  },
  {
   "cell_type": "code",
   "execution_count": 9,
   "metadata": {},
   "outputs": [
    {
     "name": "stdout",
     "output_type": "stream",
     "text": [
      "check a number n is multiple of 10 or not234\n",
      "234 is not multiple of 10\n"
     ]
    }
   ],
   "source": [
    "# check if a number is multiple of 10\n",
    "n=int(input(\"check a number n is multiple of 10 or not\"))\n",
    "if n%10==0:\n",
    "    print(n,\"multiple of 10\")\n",
    "else:\n",
    "    print(n,\"is not multiple of 10\")\n",
    "\n"
   ]
  },
  {
   "cell_type": "code",
   "execution_count": 11,
   "metadata": {},
   "outputs": [
    {
     "name": "stdout",
     "output_type": "stream",
     "text": [
      "100  is not a factor of 1000\n"
     ]
    }
   ],
   "source": [
    "#check if a number is a factor of 1000\n",
    "n1=100\n",
    "if n1%1000==0:\n",
    "    print(n1,\" is a factor 1000\")\n",
    "else:\n",
    "    print(n1,\" is not a factor of 1000\")"
   ]
  },
  {
   "cell_type": "code",
   "execution_count": null,
   "metadata": {},
   "outputs": [],
   "source": [
    "#check if a given string is equal to a number \n",
    "s1=\"python\"\n",
    "n1=123456\n",
    "if str(n1)==s1"
   ]
  },
  {
   "cell_type": "code",
   "execution_count": null,
   "metadata": {},
   "outputs": [],
   "source": [
    "#Calculate the Square root of a number without function"
   ]
  },
  {
   "cell_type": "code",
   "execution_count": null,
   "metadata": {},
   "outputs": [],
   "source": [
    "#calculate the number of nano seconds in a\n",
    "# given year(Considering leap yeat logic)\n"
   ]
  }
 ],
 "metadata": {
  "kernelspec": {
   "display_name": "Python 3",
   "language": "python",
   "name": "python3"
  },
  "language_info": {
   "codemirror_mode": {
    "name": "ipython",
    "version": 3
   },
   "file_extension": ".py",
   "mimetype": "text/x-python",
   "name": "python",
   "nbconvert_exporter": "python",
   "pygments_lexer": "ipython3",
   "version": "3.7.3"
  }
 },
 "nbformat": 4,
 "nbformat_minor": 2
}
