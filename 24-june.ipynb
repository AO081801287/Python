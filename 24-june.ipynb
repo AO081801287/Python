{
 "cells": [
  {
   "cell_type": "code",
   "execution_count": 1,
   "metadata": {},
   "outputs": [
    {
     "name": "stdout",
     "output_type": "stream",
     "text": [
      "['new', 'data', 'line', '1', 'iine', '2', 'line', '3']\n",
      "['new', 'data', 'line', '1', 'iine', '2', '3']\n",
      "new : 1\n",
      "data : 1\n",
      "line : 2\n",
      "1 : 1\n",
      "iine : 1\n",
      "2 : 1\n",
      "3 : 1\n"
     ]
    }
   ],
   "source": [
    "# Function to find the unique word count and the frequency of the data in a file\n",
    "\n",
    "# This can be do with using the  values and keys (dictionaries) as well as the unique words count and then count frequency\n",
    "def Unique(filePath):\n",
    "    unique=[]\n",
    "    freq=[]\n",
    "    with open(filePath, 'r') as f:\n",
    "        filedata=f.read().split()\n",
    "    print(filedata)\n",
    "    for element in filedata:\n",
    "        if element not in unique:\n",
    "            unique.append(element)\n",
    "    print(unique)\n",
    "    for i in unique:\n",
    "        print(i,':',filedata.count(i))\n",
    "    \n",
    "filePath = 'Data Files/data.txt'\n",
    "Unique(filePath)\n"
   ]
  },
  {
   "cell_type": "code",
   "execution_count": 2,
   "metadata": {},
   "outputs": [
    {
     "data": {
      "text/plain": [
       "['new', 'data', 'line', '1', 'iine', '2', '3']"
      ]
     },
     "execution_count": 2,
     "metadata": {},
     "output_type": "execute_result"
    }
   ],
   "source": [
    "def uniqueData(filePath):\n",
    "    # create an empty unique list\n",
    "    unique=[]\n",
    "    # for every element in the main list,\n",
    "        # Checck if it exists in the unique list\n",
    "        # If it does not exist,add it to unique list\n",
    "        # else if it already exists ,move  on to the main list and add it to unique list\n",
    "    with open (filePath,'r') as f:\n",
    "        filedata=f.read().split()\n",
    "        for i in filedata:\n",
    "            if i not in unique:\n",
    "                unique.append(i)\n",
    "    return unique\n",
    "filePath='Data Files\\data.txt'\n",
    "uniqueData(filePath)\n"
   ]
  },
  {
   "cell_type": "code",
   "execution_count": 3,
   "metadata": {},
   "outputs": [
    {
     "name": "stdout",
     "output_type": "stream",
     "text": [
      "new data\n",
      "line 1\n",
      "iine 2\n",
      "line 3\n"
     ]
    }
   ],
   "source": [
    "# Read a File - File should Exist in some part of the sotorage (Read Mode)\n",
    "\n",
    "# Write to a File - Existing( append mode)  or New File(Write mode)\n",
    "def reading(filePath):\n",
    "    with open(filePath, 'r') as f:\n",
    "        filedata = f.read()\n",
    "        lines=filedata.split(',')\n",
    "    return filedata\n",
    "\n",
    "filePath = 'Data Files/data.txt'\n",
    "print(reading(filePath))\n"
   ]
  },
  {
   "cell_type": "code",
   "execution_count": 4,
   "metadata": {},
   "outputs": [
    {
     "data": {
      "text/plain": [
       "['new', 'data', 'line', '1', 'iine', '2', 'line', '3']"
      ]
     },
     "execution_count": 4,
     "metadata": {},
     "output_type": "execute_result"
    }
   ],
   "source": [
    "import re\n",
    "def wordcount(filePath):\n",
    "    pattern='[, \\n]'\n",
    "    #filepath='Data Files\\data.txt'\n",
    "    filedata =reading(filePath)\n",
    "    count=len(re.split(pattern,filedata))\n",
    "    return count\n",
    "\n",
    "\n",
    "def wordsFromFile(filePath):\n",
    "    pattern='[ ,\\n.]'\n",
    "    filedata=reading(filePath)\n",
    "    allWordsList=re.split(pattern,filedata)\n",
    "    return allWordsList\n",
    "wordsFromFile(filePath)"
   ]
  },
  {
   "cell_type": "code",
   "execution_count": 5,
   "metadata": {},
   "outputs": [
    {
     "name": "stdout",
     "output_type": "stream",
     "text": [
      "new : 1\n",
      "data : 1\n",
      "line : 2\n",
      "1 : 1\n",
      "iine : 1\n",
      "2 : 1\n",
      "3 : 1\n"
     ]
    }
   ],
   "source": [
    "def FreqDistribution1(filePath):\n",
    "    allwords=wordsFromFile(filePath)\n",
    "    uniquewords=uniqueData(filePath)\n",
    "    \n",
    "    for word in uniquewords:\n",
    "        count=allwords.count(word)\n",
    "        print(word,':',count)\n",
    "    return\n",
    "FreqDistribution1(filePath)"
   ]
  },
  {
   "cell_type": "code",
   "execution_count": 6,
   "metadata": {},
   "outputs": [
    {
     "data": {
      "text/plain": [
       "{'new': 1, 'data': 1, 'line': -1, '1': 1, 'iine': 1, '2': 1, '3': 1}"
      ]
     },
     "execution_count": 6,
     "metadata": {},
     "output_type": "execute_result"
    }
   ],
   "source": [
    "def FreDistribution2(filePath):\n",
    "    allwords=wordsFromFile(filePath)\n",
    "    wordfrequency={}\n",
    "    for word in allwords:\n",
    "        if word not in wordfrequency.keys():\n",
    "            wordfrequency[word] =1\n",
    "        else:\n",
    "            wordfrequency[word]=-1\n",
    "    return wordfrequency\n",
    "FreDistribution2(filePath)\n"
   ]
  },
  {
   "cell_type": "code",
   "execution_count": null,
   "metadata": {},
   "outputs": [],
   "source": []
  },
  {
   "cell_type": "code",
   "execution_count": null,
   "metadata": {},
   "outputs": [],
   "source": []
  },
  {
   "cell_type": "code",
   "execution_count": null,
   "metadata": {},
   "outputs": [],
   "source": []
  },
  {
   "cell_type": "code",
   "execution_count": null,
   "metadata": {},
   "outputs": [],
   "source": []
  },
  {
   "cell_type": "code",
   "execution_count": null,
   "metadata": {},
   "outputs": [],
   "source": []
  },
  {
   "cell_type": "code",
   "execution_count": null,
   "metadata": {},
   "outputs": [],
   "source": []
  }
 ],
 "metadata": {
  "kernelspec": {
   "display_name": "Python 3",
   "language": "python",
   "name": "python3"
  },
  "language_info": {
   "codemirror_mode": {
    "name": "ipython",
    "version": 3
   },
   "file_extension": ".py",
   "mimetype": "text/x-python",
   "name": "python",
   "nbconvert_exporter": "python",
   "pygments_lexer": "ipython3",
   "version": "3.7.3"
  }
 },
 "nbformat": 4,
 "nbformat_minor": 2
}
