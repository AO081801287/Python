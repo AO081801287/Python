{
 "cells": [
  {
   "cell_type": "markdown",
   "metadata": {},
   "source": [
    "# Problem Solving and programming in P\n",
    "\n",
    "\n",
    "### Day Objectives\n",
    "- Python DataStructures\n",
    "    * Lists\n",
    "    * Tuples\n",
    "    * Dictionaries\n",
    "- Basic Problem set on DataStructures\n",
    "- Advanced Problem Set\n",
    "- Packages and Modules in Python"
   ]
  },
  {
   "cell_type": "code",
   "execution_count": null,
   "metadata": {},
   "outputs": [],
   "source": []
  },
  {
   "cell_type": "markdown",
   "metadata": {},
   "source": [
    "# Python Data Structures\n",
    "\n",
    "### Lists"
   ]
  },
  {
   "cell_type": "code",
   "execution_count": 54,
   "metadata": {},
   "outputs": [
    {
     "data": {
      "text/plain": [
       "4"
      ]
     },
     "execution_count": 54,
     "metadata": {},
     "output_type": "execute_result"
    }
   ],
   "source": [
    "li = [123,978,654]\n",
    "\n",
    "li # Access the entire list\n",
    "\n",
    "li[1] #Access an element with  index in a list\n",
    "\n",
    "li[1:] # Access all element from second element to last element\n",
    "\n",
    "li= li[::-1] # reversing list elememts and rea\n",
    "\n",
    "li\n",
    "li=li[::-1]\n",
    "li[0::2]\n",
    "\n",
    "# List can be accessed ,manipulated in two different ways\n",
    "   # Direct Referencing -[index]\n",
    "   # Indirect Referencing-through function\n",
    "   \n",
    "li.append(345) # Adding an element to end of  the list\n",
    "   \n",
    "li.insert(1,3422) # Adding an element at a particular position in the list\n",
    "\n",
    "li.sort()# Sort elements in ascending order\n",
    "\n",
    "li.pop() # Remove the last element in a list\n",
    "li\n",
    "li.pop(1) # Remove an element at a particular index\n",
    "li\n",
    "\n",
    "li2=[234,456,789]\n",
    "\n",
    "li.extend(li2)# Merge list 2 into list1\n",
    "sum(li)\n",
    "max(li)\n",
    "len(li)\n",
    "sum(li)/len(li) # Average of list of element\n",
    "sum(li[1::2])/len(li[1::2]) # Average of altranate elements\n",
    "li.index(456)\n",
    "#li\n"
   ]
  },
  {
   "cell_type": "code",
   "execution_count": null,
   "metadata": {},
   "outputs": [],
   "source": []
  },
  {
   "cell_type": "code",
   "execution_count": 45,
   "metadata": {},
   "outputs": [
    {
     "data": {
      "text/plain": [
       "234"
      ]
     },
     "execution_count": 45,
     "metadata": {},
     "output_type": "execute_result"
    }
   ],
   "source": [
    "# Function to identify the second largest in a list \n",
    "def SecLarEle(li):\n",
    "    li.sort()\n",
    "    return li[-2]\n",
    "SecLarEle(li)\n",
    "    \n",
    "# Function that returns the nth largest\n",
    "def genericLargest(li,n):\n",
    "    li.sort()\n",
    "    return li[-n]\n",
    "genericLargest(li,4)"
   ]
  },
  {
   "cell_type": "code",
   "execution_count": 57,
   "metadata": {},
   "outputs": [
    {
     "data": {
      "text/plain": [
       "False"
      ]
     },
     "execution_count": 57,
     "metadata": {},
     "output_type": "execute_result"
    }
   ],
   "source": [
    "# Function to search for data in a list\n",
    "# sol Search  for the key in the list and return the in\n",
    "def LinearSearch(li,key):\n",
    "    for value in li:\n",
    "        if value==key:\n",
    "            return True\n",
    "    return False\n",
    "LinearSearch(li,498)\n",
    "\n",
    "def LinearSearch2(li,key):\n",
    "    if key in li:\n",
    "        return li.index(key)\n",
    "    return False\n",
    "LinearSearch2(li,788)    "
   ]
  },
  {
   "cell_type": "code",
   "execution_count": 64,
   "metadata": {},
   "outputs": [
    {
     "data": {
      "text/plain": [
       "0"
      ]
     },
     "execution_count": 64,
     "metadata": {},
     "output_type": "execute_result"
    }
   ],
   "source": [
    "#Function to count the occurances of a character in a string\n",
    "# \"Python Programming \",m->2\n",
    "\n",
    "def CouChaStr(stri,subs):\n",
    "    count=0\n",
    "    for chara in stri:\n",
    "        if chara == subs:\n",
    "            count +=1\n",
    "    return count\n",
    "CouChaStr(\"Python Programming\",'m')\n",
    "\n",
    "def CouChaStr2(stri,subs):\n",
    "    return stri.count(subs)\n",
    "CouChaStr2(\"Python Programming\",'s')\n",
    "\n",
    "#Function to find the number of occurances of  a substring\n",
    "#\"abcabcddcba\",ab->2"
   ]
  },
  {
   "cell_type": "code",
   "execution_count": null,
   "metadata": {},
   "outputs": [],
   "source": [
    "# "
   ]
  },
  {
   "cell_type": "code",
   "execution_count": null,
   "metadata": {},
   "outputs": [],
   "source": []
  },
  {
   "cell_type": "code",
   "execution_count": null,
   "metadata": {},
   "outputs": [],
   "source": []
  }
 ],
 "metadata": {
  "kernelspec": {
   "display_name": "Python 3",
   "language": "python",
   "name": "python3"
  },
  "language_info": {
   "codemirror_mode": {
    "name": "ipython",
    "version": 3
   },
   "file_extension": ".py",
   "mimetype": "text/x-python",
   "name": "python",
   "nbconvert_exporter": "python",
   "pygments_lexer": "ipython3",
   "version": "3.7.3"
  }
 },
 "nbformat": 4,
 "nbformat_minor": 2
}
