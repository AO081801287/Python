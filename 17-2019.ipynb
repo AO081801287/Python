{
 "cells": [
  {
   "cell_type": "code",
   "execution_count": 1,
   "metadata": {},
   "outputs": [
    {
     "name": "stdout",
     "output_type": "stream",
     "text": [
      "2\n",
      "6\n",
      "4\n",
      "9\n",
      "5\n"
     ]
    }
   ],
   "source": [
    "def num(n):\n",
    "    r=0\n",
    "    for i in range(1,n+1):\n",
    "        rem=n%i\n",
    "        if rem>r:\n",
    "            r=rem\n",
    "            j=i\n",
    "    return j9\n",
    "t=int(input())\n",
    "for i in range(t):\n",
    "    n=int(input())\n",
    "    print(num(n))"
   ]
  },
  {
   "cell_type": "code",
   "execution_count": 4,
   "metadata": {},
   "outputs": [
    {
     "name": "stdout",
     "output_type": "stream",
     "text": [
      "not a prime num\n"
     ]
    }
   ],
   "source": [
    "#\n",
    "def primenumber(n):\n",
    "    c=0\n",
    "    for i in range(1,n+1):\n",
    "        if (n%i==0):\n",
    "            c=c+1\n",
    "    if(c==2):\n",
    "        print(n)\n",
    "    else:\n",
    "        print(\"not a prime num\")\n",
    "primenumber(9)\n"
   ]
  },
  {
   "cell_type": "code",
   "execution_count": null,
   "metadata": {},
   "outputs": [],
   "source": [
    "## Perfect Numbers\n",
    "# Write a program to determine a number N is equal to the sum of its proper\n",
    "# positive divisors(excluding the number itself).\n",
    "def prefectnumbers(n):\n",
    "    sum=0\n",
    "    for i in range(1,n):\n",
    "        if n%i==0:\n",
    "            sum=sum+i\n",
    "    if sum==n:\n",
    "        return \"YES\"\n",
    "    else :\n",
    "        return \"NO\"\n",
    "a=int(input())\n",
    "for i in range(a):\n",
    "    n=int(input())\n",
    "    print(prefectnumbers(n))\n",
    "    "
   ]
  },
  {
   "cell_type": "code",
   "execution_count": null,
   "metadata": {},
   "outputs": [],
   "source": [
    "s = \"a\"\n",
    "  \n",
    "s.islower() # Check the case of a charecter\n",
    "s.isupper() # \n",
    "\n",
    "s.lower() # Convert a character to lowercase\n",
    "s.upper() # Convert a character to uppercase\n"
   ]
  },
  {
   "cell_type": "code",
   "execution_count": null,
   "metadata": {},
   "outputs": [
    {
     "name": "stdout",
     "output_type": "stream",
     "text": [
      "2\n",
      "5\n",
      "3\n"
     ]
    }
   ],
   "source": [
    "def highrem(n): # 5\n",
    "    r = 0\n",
    "    for i in range(1,n):\n",
    "        rem = n%i #5%1=0,5%2=1,5%3=2,5%4=1\n",
    "        if rem>r:#1>0 2>1 1!>=2\n",
    "            r = rem #r=1 r=2\n",
    "            j = i #j=2 j=3\n",
    "    return j\n",
    "\n",
    "t = int(input())\n",
    "for i in range(t):\n",
    "    n = int(input())\n",
    "    print(highrem(n))\n"
   ]
  },
  {
   "cell_type": "markdown",
   "metadata": {},
   "source": [
    "### Problem: Play with numbers\n",
    "- mLine 1: array size(n), no of queries(q)\n",
    "- Line 2: n array elements\n",
    "- next q lines: Queary - sub array of the original### "
   ]
  },
  {
   "cell_type": "code",
   "execution_count": null,
   "metadata": {},
   "outputs": [],
   "source": []
  },
  {
   "cell_type": "code",
   "execution_count": null,
   "metadata": {},
   "outputs": [],
   "source": []
  },
  {
   "cell_type": "code",
   "execution_count": null,
   "metadata": {},
   "outputs": [],
   "source": []
  }
 ],
 "metadata": {
  "kernelspec": {
   "display_name": "Python 3",
   "language": "python",
   "name": "python3"
  },
  "language_info": {
   "codemirror_mode": {
    "name": "ipython",
    "version": 3
   },
   "file_extension": ".py",
   "mimetype": "text/x-python",
   "name": "python",
   "nbconvert_exporter": "python",
   "pygments_lexer": "ipython3",
   "version": "3.7.3"
  }
 },
 "nbformat": 4,
 "nbformat_minor": 2
}
