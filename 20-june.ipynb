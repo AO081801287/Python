{
 "cells": [
  {
   "cell_type": "markdown",
   "metadata": {},
   "source": [
    "# Day Objectives\n",
    "- Regular Expressions\n",
    "  * Constructing Regular Expressions for various use cases\n",
    "  * Regular Expressions Module and related in Python\n",
    "- Improving the Contacts application with name and phone number validation\n",
    "     * File Handling\n",
    "     * Text Files\n",
    "     * Upgrading the Contacts Application to store contact information in a text file"
   ]
  },
  {
   "cell_type": "markdown",
   "metadata": {},
   "source": [
    "# Regular expessions(means Pattern matching)\n",
    "- Pattern matching\n",
    "- Symbolic Notation of a pattern\n",
    "    - Pattern :Format which repeats\n",
    "    - Pattern(RE) represents The set of all values strings matches that pattern\n",
    "- [0-9] -> Any digit \n",
    "- [a-z] -> Any lower case alphabet\n",
    "- [2468]  -> All single digit multiples of 2\n",
    "    `- [8462] ->this is also mutliples of 2 order is nor important\n",
    "- ^[0-9]{3}$ -> Can taken only 3 characters if we taken extra character not takem totally\n",
    "- ^[0-9]{3}  -> can taken first 3 characters only\n",
    "- ^[0-9]{3}  -> can taken lasr 3 characters only\n",
    "- [0-9]*0$ -> All multiples of 10\n"
   ]
  },
  {
   "cell_type": "markdown",
   "metadata": {},
   "source": [
    "- ^([1-9][0-9]*[05])$|^([5])$ -> All multiples of 5\n",
    "-          ->All 10 digit numbers\n",
    "-[w][o][r][d] or(word)-> Searching for a word\n",
    "-^[6-9][0-9]{9}$|^[0][6-9][0-9]{9}|^[+][9][1][6-9][0-9]{9}$     -> Validating Phone number(India)(start with 7989570681)\n",
    "-^[0-9a-z][0-9a-z_.]{4,13}[0-9a-z][@][a-z0-9]{3,18}[.][a-z]{2,4}$  -> Email Validation(username@domain.ext)\n",
    "        - username ( ^[0-9a-z][0-9a-z_.]{4,13}[0-9a-z]$ )\n",
    "            - Length of username :[6,15]\n",
    "            - No special characters other than _.\n",
    "            - Should not begin and end with _.\n",
    "            - Character Set : all digits and lower case alphabet\n",
    "        - domain ( ^[0-9a-z][a-z0-9]{2,17}[a-z]$ )\n",
    "            - Length of domain : [3,18]\n",
    "            - No special characters\n",
    "            - Character Set : all digits and lower case alphabet\n",
    "        - extension\n",
    "            - Length of extension : [2,4]\n",
    "            - No special characters\n",
    "            - Character Set :lower case alphabet"
   ]
  },
  {
   "cell_type": "markdown",
   "metadata": {},
   "source": [
    "- ^[a]...[z]$ ->Any string length 5 that starts with 'a' and ends with 'z'\n",
    "- ^[a].*[z]$ ->"
   ]
  },
  {
   "cell_type": "code",
   "execution_count": null,
   "metadata": {},
   "outputs": [],
   "source": []
  },
  {
   "cell_type": "code",
   "execution_count": 4,
   "metadata": {},
   "outputs": [
    {
     "name": "stdout",
     "output_type": "stream",
     "text": [
      "valid Number\n"
     ]
    }
   ],
   "source": [
    "# Function to validate a phone number\n",
    "import re\n",
    "\n",
    "def phoneNumberValidator(number):\n",
    "    pattern = '^[6-9][0-9]{9}$|^[0][6-9][0-9]{9}|^[+][9][1][6-9][0-9]{9}$'\n",
    "    if re.match(pattern,str(number)):\n",
    "        print(\"valid Number\")\n",
    "    else:\n",
    "        print(\"Invalid Number\")\n",
    "    return\n",
    "phoneNumberValidator(7989570681)"
   ]
  },
  {
   "cell_type": "code",
   "execution_count": 21,
   "metadata": {},
   "outputs": [
    {
     "name": "stdout",
     "output_type": "stream",
     "text": [
      "3ravi999@gmail.com\n"
     ]
    },
    {
     "data": {
      "text/plain": [
       "True"
      ]
     },
     "execution_count": 21,
     "metadata": {},
     "output_type": "execute_result"
    }
   ],
   "source": [
    "def emailValidator(email):\n",
    "    pattern='^[0-9a-z][0-9a-z_.]{4,13}[@][0-9a-z]{3,18}[.][a-z]{2,4}|[.][a-z]{2,4}$'\n",
    "    if re.match(pattern,email):\n",
    "        return True\n",
    "    return False\n",
    "email= input()\n",
    "emailValidator(\"3ravi999@gmail.com\")\n"
   ]
  },
  {
   "cell_type": "code",
   "execution_count": 1,
   "metadata": {},
   "outputs": [
    {
     "name": "stdout",
     "output_type": "stream",
     "text": [
      "ravi\n",
      "7989570681\n",
      "3ravi999@gmail.com\n",
      "ravi already exists.\n"
     ]
    }
   ],
   "source": [
    "contacts={\"ravi\":[7230000000,'name@domain.ext'],\"name1\":[7989570681,'name1@domain.ext']}\n",
    "def addContact(name,phone,email):\n",
    "    # Verify the contact doesnot already exist \n",
    "    if name in contacts:\n",
    "        print(name,\"already exists.\")\n",
    "    else:\n",
    "        if not phoneNumberValidator(phone):\n",
    "            print(\"Invalid Phone number\")\n",
    "        if not emailValidator(email):\n",
    "            print(\"Invalid Email address\")\n",
    "            return\n",
    "        newcontact =[]\n",
    "        newcontact.append(phone)\n",
    "        newcontact.append(email)\n",
    "        contacts[name]=newcontact\n",
    "        print(name,\"added Succesfully\")\n",
    "    return\n",
    "name=input()\n",
    "phone=int(input())\n",
    "email=input()\n",
    "#print(contacts)\n",
    "addContact(name,phone,email)\n"
   ]
  },
  {
   "cell_type": "code",
   "execution_count": 3,
   "metadata": {},
   "outputs": [
    {
     "name": "stdout",
     "output_type": "stream",
     "text": [
      "kishore\n",
      "kishore does not exist\n"
     ]
    }
   ],
   "source": [
    "def searchContacts(name):\n",
    "    if name in contacts:\n",
    "        print(name)\n",
    "        print(\"Phone:\",contacts[name][0])\n",
    "        print(\"Email:\",contacts[name][1])\n",
    "    else:\n",
    "        print(\"%s does not exist\" % name)\n",
    "    return\n",
    "name=input()\n",
    "searchContacts(name)\n"
   ]
  },
  {
   "cell_type": "code",
   "execution_count": 2,
   "metadata": {},
   "outputs": [
    {
     "name": "stdout",
     "output_type": "stream",
     "text": [
      "riie\n",
      "7891423948\n",
      "rqweqwr@gmail.com\n",
      "qwerfd\n",
      "2 contacts  added successfully\n"
     ]
    }
   ],
   "source": [
    "def importContacts(newConctacts):\n",
    "    contacts.update(newContacts)\n",
    "    print(len(newContacts.keys()),\"contacts  added successfully\")\n",
    "    return\n",
    "name2=input()\n",
    "name3=input()\n",
    "phone2=input()\n",
    "phone3=input()\n",
    "newContacts={\"ravi\":[7989570681,'name@domain.ext'],\"name1\":[8331063380,'name1@domain.ext']}\n",
    "importContacts(newContacts)\n"
   ]
  },
  {
   "cell_type": "code",
   "execution_count": 3,
   "metadata": {},
   "outputs": [
    {
     "name": "stdout",
     "output_type": "stream",
     "text": [
      "ravi \n",
      " Phone: 7989570681 \n",
      " Email: name@domain.ext\n",
      "name1 \n",
      " Phone: 8331063380 \n",
      " Email: name1@domain.ext\n"
     ]
    }
   ],
   "source": [
    "def listAllContacts():\n",
    "    for contact,info in contacts.items():\n",
    "        print(contact,\"\\n\",\"Phone:\",info[0],\"\\n\",\"Email:\",info[1])\n",
    "    return\n",
    "listAllContacts()\n"
   ]
  },
  {
   "cell_type": "code",
   "execution_count": null,
   "metadata": {},
   "outputs": [],
   "source": []
  },
  {
   "cell_type": "code",
   "execution_count": null,
   "metadata": {},
   "outputs": [],
   "source": []
  },
  {
   "cell_type": "code",
   "execution_count": null,
   "metadata": {},
   "outputs": [],
   "source": []
  },
  {
   "cell_type": "markdown",
   "metadata": {},
   "source": [
    "### File Handling in Python\n",
    "\n",
    "File - Document containing information residing on the permanent storage\n",
    "Types - Text,PDF,CSV etc\n",
    "\n",
    "File I/O - Channelling I/O data to files\n",
    "\n",
    "Change I/O channel to files for Reading and writing\n",
    "\n",
    "Read a file - Input from file\n",
    "write to a file- Output to a file\n",
    "\n",
    "Read / write  a file -open(filename,mode)\n"
   ]
  },
  {
   "cell_type": "code",
   "execution_count": 20,
   "metadata": {},
   "outputs": [
    {
     "name": "stdout",
     "output_type": "stream",
     "text": [
      "Line 1\n",
      "Line 2\n",
      "Line 3"
     ]
    }
   ],
   "source": [
    "# Function to read a file\n",
    "def readFile(filename):\n",
    "    f=open (filename,'r')\n",
    "    filedata = f.read()\n",
    "    f.close()\n",
    "    return filedata\n",
    "filename='Datafiles\\data.txt'\n",
    "#readFile(filename).split('\\n') # one of the type\n",
    "filedata=readFile(filename)\n",
    "#for line in filedata:\n",
    "#    print(line)\n",
    "\n",
    "\n",
    "\n",
    "def printFileDataLines(filename):\n",
    "    f=open(filename,'r')\n",
    "    for line in f:\n",
    "        print(line,end= '')\n",
    "    return\n",
    "printFileDataLines(filename)\n",
    "\n",
    "    \n"
   ]
  },
  {
   "cell_type": "code",
   "execution_count": 6,
   "metadata": {},
   "outputs": [],
   "source": [
    "# Function to write data into a file\n",
    "\n",
    "def writeINTOFile(filename,filedata):\n",
    "    with open(filename,'w') as f:\n",
    "        f.write(filedata)\n",
    "    return \n",
    "filename='Datafiles/data.txt'\n",
    "\n",
    "writeINTOFile(filename,\"new data\")\n"
   ]
  },
  {
   "cell_type": "code",
   "execution_count": 8,
   "metadata": {},
   "outputs": [],
   "source": [
    "# Function to append data to a file\n",
    "\n",
    "def appendDataToFile(filename,filedata):\n",
    "    with open(filename,'a') as f:\n",
    "        f.writelines(filedata)\n",
    "    return \n",
    "filedata=[\"Line2,Line3\"]\n",
    "\n",
    "appendDataToFile(filename,filedata)\n"
   ]
  },
  {
   "cell_type": "code",
   "execution_count": 9,
   "metadata": {},
   "outputs": [],
   "source": [
    "def appendDataToFile(filename,filedata):\n",
    "    with open(filename,'a') as f:\n",
    "        f.write(filedata)\n",
    "    return \n",
    "filedata=\"\\nLine2\\nLine7\"\n",
    "\n",
    "appendDataToFile(filename,filedata)\n"
   ]
  },
  {
   "cell_type": "code",
   "execution_count": 15,
   "metadata": {},
   "outputs": [],
   "source": [
    "def appendDataToFile(filename,filedata):\n",
    "    with open(filename,'a') as f:\n",
    "        f.writelines(\"\\n\")\n",
    "    return \n",
    "filedata='Datafiles/data.txt'\n",
    "appendDataToFile(filename,filedata)\n"
   ]
  },
  {
   "cell_type": "code",
   "execution_count": null,
   "metadata": {},
   "outputs": [],
   "source": []
  }
 ],
 "metadata": {
  "kernelspec": {
   "display_name": "Python 3",
   "language": "python",
   "name": "python3"
  },
  "language_info": {
   "codemirror_mode": {
    "name": "ipython",
    "version": 3
   },
   "file_extension": ".py",
   "mimetype": "text/x-python",
   "name": "python",
   "nbconvert_exporter": "python",
   "pygments_lexer": "ipython3",
   "version": "3.7.3"
  }
 },
 "nbformat": 4,
 "nbformat_minor": 2
}
