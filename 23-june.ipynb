{
 "cells": [
  {
   "cell_type": "code",
   "execution_count": 14,
   "metadata": {},
   "outputs": [
    {
     "data": {
      "text/plain": [
       "'new data\\nline 1\\niine 2\\nline 3'"
      ]
     },
     "execution_count": 14,
     "metadata": {},
     "output_type": "execute_result"
    }
   ],
   "source": [
    "#Each element \n",
    "def readfileintolist(filepath):\n",
    "    with open(filepath,'r')as f:\n",
    "        filedata=f.read() \n",
    "    return filedata\n",
    "filepath='Data Files/data.txt'\n",
    "readfileintolist(filepath)\n"
   ]
  },
  {
   "cell_type": "code",
   "execution_count": 3,
   "metadata": {},
   "outputs": [
    {
     "name": "stdout",
     "output_type": "stream",
     "text": [
      "['new data', 'line 1', 'iine 2', 'line 3']\n"
     ]
    }
   ],
   "source": [
    "# Read a File - File should Exist in some part of the sotorage (Read Mode)\n",
    "\n",
    "# Write to a File - Existing( append mode)  or New File(Write mode)\n",
    "def readFile(filepath):\n",
    "    with open(filepath, 'r') as f:\n",
    "        filedata = f.read()\n",
    "        lines=filedata.split('\\n')\n",
    "    return lines\n",
    "\n",
    "filepath = 'Data Files/data.txt'\n",
    "print(readFile(filepath))\n"
   ]
  },
  {
   "cell_type": "code",
   "execution_count": 4,
   "metadata": {},
   "outputs": [
    {
     "data": {
      "text/plain": [
       "4"
      ]
     },
     "execution_count": 4,
     "metadata": {},
     "output_type": "execute_result"
    }
   ],
   "source": [
    "# Function to count number of lines in a file\n",
    "\n",
    "def countLinesFile(filepath):\n",
    "    count=len(readFile(filepath))\n",
    "    return count\n",
    "countLinesFile('Data Files/data.txt')\n"
   ]
  },
  {
   "cell_type": "code",
   "execution_count": 22,
   "metadata": {},
   "outputs": [
    {
     "data": {
      "text/plain": [
       "['Data', 'Files/data.txt']"
      ]
     },
     "execution_count": 22,
     "metadata": {},
     "output_type": "execute_result"
    }
   ],
   "source": [
    "import re\n",
    "def wordcountFile(filepath):\n",
    "    pattern='[ \\n]'\n",
    "    filepath='Data Files/data.txt'\n",
    "    #filepath='Data Files\\data.txt'\n",
    "    filedata =filepath\n",
    "    count=len(re.split(pattern,filedata))\n",
    "    return count\n",
    "# wordcountFile(filepath)\n",
    "\n",
    "def wordFromFile(filepath):\n",
    "    pattern='[ \\n]'\n",
    "    filepath='Data Files/data.txt'\n",
    "    filedata =filepath\n",
    "    allWordsList=re.split(pattern,filedata)\n",
    "    return allWordsList\n",
    "wordFromFile(filepath)\n"
   ]
  },
  {
   "cell_type": "code",
   "execution_count": 5,
   "metadata": {},
   "outputs": [
    {
     "data": {
      "text/plain": [
       "[1, 2, 3]"
      ]
     },
     "execution_count": 5,
     "metadata": {},
     "output_type": "execute_result"
    }
   ],
   "source": [
    "#Function to get unique elements in a list\n",
    "\n",
    "#[1,2,3,3,2,1] -> [1,2,3]\n",
    "#create a empty unique list [1]\n",
    "\n",
    "def uniqueData(li):\n",
    "    \n",
    "    #Create an empty unique list\n",
    "    emptylist=[]\n",
    "    #For every element in the main list\n",
    "    #check if it exists in the unique list.\n",
    "    # If it does not exist, add it to unique list\n",
    "    # else if it already exists,move on to\n",
    "    for element in li:\n",
    "        if element not in emptylist:\n",
    "            emptylist.append(element)\n",
    "    return emptylist\n",
    "li=[1,2,3,3,2,1]\n",
    "uniqueData(li)\n",
    "\n"
   ]
  },
  {
   "cell_type": "code",
   "execution_count": 6,
   "metadata": {},
   "outputs": [
    {
     "data": {
      "text/plain": [
       "3"
      ]
     },
     "execution_count": 6,
     "metadata": {},
     "output_type": "execute_result"
    }
   ],
   "source": [
    "def uniqueDataCount(li):\n",
    "    \n",
    "    #Create an empty unique list\n",
    "    emptylist=[]\n",
    "    #For every element in the main list.\n",
    "    #check if it exists in the unique list.\n",
    "    # If it does not exist, add it to unique list\n",
    "    # else if it already exists,move on to\n",
    "    for element in li:\n",
    "        if element not in emptylist:\n",
    "            emptylist.append(element)\n",
    "    return len(emptylist)\n",
    "li=[1,2,3,3,2,1]\n",
    "uniqueDataCount(li)"
   ]
  },
  {
   "cell_type": "code",
   "execution_count": null,
   "metadata": {},
   "outputs": [],
   "source": [
    "#Function  to count the number of unique word"
   ]
  },
  {
   "cell_type": "code",
   "execution_count": 28,
   "metadata": {},
   "outputs": [
    {
     "data": {
      "text/plain": [
       "{'Data': 1, 'Files/data.txt': 1}"
      ]
     },
     "execution_count": 28,
     "metadata": {},
     "output_type": "execute_result"
    }
   ],
   "source": [
    "#Function to print the frequency count of all words in a file\n",
    "#Data in line 1\n",
    "#Data in line 2\n",
    "#Data in line 3\n",
    "#o/p\n",
    "#Data:3\n",
    "# in:3\n",
    "#line:3\n",
    "#1:1\n",
    "#2:1\n",
    "#3:1\n",
    "\n",
    "def FreqDistributionOfWords1(filepath):\n",
    "    #Dictionary to be used\n",
    "        # keys-> unique words\n",
    "        #values -> count of unique words\n",
    "    #Two lists\n",
    "        # AllWords list -\n",
    "        # UniqueWords list -\n",
    "    # Set\n",
    "    allwords = wordsFromFile(filepath)\n",
    "    uniquewords=uniqueData(filepath)\n",
    "    \n",
    "    for word in uniquewords:\n",
    "        count = allwords.count(word)\n",
    "        print(word,':',count)\n",
    "    return\n",
    "def FreqDistributionOfWords2(filepath):\n",
    "    allwords =wordFromFile(filepath)\n",
    "    wordFrequency={}\n",
    "    \n",
    "    for word in allwords:\n",
    "        if word not in wordFrequency.keys():\n",
    "            wordFrequency[word]=1\n",
    "        else:\n",
    "            wordFrequency[word] +=1\n",
    "    return wordFrequency\n",
    "FreqDistributionOfWords2(filepath)\n",
    "        \n",
    "        "
   ]
  },
  {
   "cell_type": "code",
   "execution_count": 19,
   "metadata": {},
   "outputs": [
    {
     "data": {
      "text/plain": [
       "4"
      ]
     },
     "execution_count": 19,
     "metadata": {},
     "output_type": "execute_result"
    }
   ],
   "source": [
    "def charcount(filepath):\n",
    "    count=len(readFile(filepath))\n",
    "    return count\n",
    "charcount('Data Files/data.txt')\n"
   ]
  },
  {
   "cell_type": "code",
   "execution_count": 20,
   "metadata": {},
   "outputs": [
    {
     "name": "stdout",
     "output_type": "stream",
     "text": [
      "['n', 'e', 'w', ' ', 'd', 'a', 't', '\\n', 'l', 'i', '1', '2', '3']\n"
     ]
    }
   ],
   "source": [
    "# Function to find the unique words of the data in a file\n",
    "def Unique(filePath):\n",
    "    unique=[]\n",
    "    with open(filePath, 'r') as f:\n",
    "        filedata=f.read()\n",
    "        for i in filedata:\n",
    "            if i not in unique:\n",
    "                unique.append(i)\n",
    "        print(unique)\n",
    "\n",
    "filePath = 'Data Files/data.txt'\n",
    "Unique(filePath)\n"
   ]
  },
  {
   "cell_type": "code",
   "execution_count": null,
   "metadata": {},
   "outputs": [],
   "source": [
    "# Contacts Application\n",
    "    #Add, Search, List, Modify Delete contacts\n",
    "# Find and Replace Application\n",
    "    #Count the total number of occurances of a word\n",
    "    # If word is existing\n",
    "    #replace all occurances of a word with another word\n",
    "#Marks Analysis Application\n",
    "    #Generate marks file for n students\n",
    "    # Input:Markd text file-each line contains\n",
    "    # Generates a report with the following info\n",
    "        #Class Average\n",
    "        # % of Students passed\n",
    "        # % of students failed\n",
    "        # % of students with distinction"
   ]
  },
  {
   "cell_type": "code",
   "execution_count": null,
   "metadata": {
    "scrolled": true
   },
   "outputs": [],
   "source": []
  },
  {
   "cell_type": "markdown",
   "metadata": {},
   "source": [
    "### Find and Replace Application\n",
    "- Check if a word is existing in a file\n",
    "    - wordExists(filepath,word)\n",
    "- Count the total number of occurrences of  a word in a file\n",
    "    - countWordOccurrences(filepath,word)\n",
    "- Replace all occurences of a word in a file\n",
    "    - ReplaceWord(filepath,word)\n",
    "\n",
    "### Marks Analysis Report\n",
    "- Generate Marks\n",
    "    - generateMarks(n,lb,ub)\n",
    "- Generate a report of the following\n",
    "    - Class Average\n",
    "    - % Passed\n",
    "    - % Failed\n",
    "    - % Distinction\n",
    "    - Frequency of Highest marks - frequencyHighest(filepath)\n",
    "    - Frequency of lowest mark  - frequencyLowest(filepath)\n",
    "    - GenerateReport(filepath)\n",
    "    \n",
    "### Contacts Application\n",
    "- addContact(name,phone,email)\n",
    "- SearchContact(name)\n",
    "- listallContacts()\n",
    "- editContact(name,newphone,newemail)\n",
    "- deleteContact(name)\n",
    "- contactsApp()"
   ]
  },
  {
   "cell_type": "code",
   "execution_count": 34,
   "metadata": {},
   "outputs": [
    {
     "ename": "IndentationError",
     "evalue": "unexpected indent (<ipython-input-34-67742d1bca81>, line 4)",
     "output_type": "error",
     "traceback": [
      "\u001b[1;36m  File \u001b[1;32m\"<ipython-input-34-67742d1bca81>\"\u001b[1;36m, line \u001b[1;32m4\u001b[0m\n\u001b[1;33m    with open('Data Files/mm.txt','w')as f:\u001b[0m\n\u001b[1;37m    ^\u001b[0m\n\u001b[1;31mIndentationError\u001b[0m\u001b[1;31m:\u001b[0m unexpected indent\n"
     ]
    }
   ],
   "source": [
    "# Function to generate marks data for n se\n",
    "from random import randint\n",
    "def generateMarks(n,lb,ub):f\n",
    "    with open('Data Files/mm.txt','w')as f:\n",
    "        for i in range(0,n):\n",
    "            r=randint(lb,ub)\n",
    "            f.write(str(r)+'\\n')\n",
    "    return \n",
    "generateMarks(30,0,100)\n",
    "    "
   ]
  },
  {
   "cell_type": "code",
   "execution_count": 7,
   "metadata": {},
   "outputs": [],
   "source": [
    "from random import randint\n",
    "def generatemarks2(n,lb,ub):\n",
    "    filepath='Data Files/mm.txt'\n",
    "    with open(filepath,'w') as f:\n",
    "        for i in range(0,n):\n",
    "            r=randint(lb,ub)\n",
    "            f.write(str(r)+'\\n')\n",
    "    return\n",
    "generatemarks2(20,0,100)"
   ]
  },
  {
   "cell_type": "code",
   "execution_count": 8,
   "metadata": {},
   "outputs": [
    {
     "data": {
      "text/plain": [
       "52.95"
      ]
     },
     "execution_count": 8,
     "metadata": {},
     "output_type": "execute_result"
    }
   ],
   "source": [
    "#Class Average -classAverage(filepath)\n",
    "# Sum of marks/Student count\n",
    "\n",
    "def classAverage(filepath):\n",
    "    sum=0\n",
    "    count=0\n",
    "    with open(filepath,'r') as f: \n",
    "        for i in f:\n",
    "            sum=sum+int(i)\n",
    "            count=count+1\n",
    "    return sum/count\n",
    "classAverage('Data Files/mm.txt')"
   ]
  },
  {
   "cell_type": "code",
   "execution_count": 9,
   "metadata": {},
   "outputs": [
    {
     "data": {
      "text/plain": [
       "65.0"
      ]
     },
     "execution_count": 9,
     "metadata": {},
     "output_type": "execute_result"
    }
   ],
   "source": [
    "# %passed- passPercentage(filepath)\n",
    "def passpercentage(filepath):\n",
    "    mc=0\n",
    "    count=0\n",
    "    with open(filepath,'r') as f:\n",
    "        for i in f:\n",
    "            mc=mc+1\n",
    "            if(int(i)>=35):\n",
    "                count=count+1\n",
    "        return (count/mc)*100\n",
    "passpercentage('Data Files/mm.txt')"
   ]
  },
  {
   "cell_type": "code",
   "execution_count": 10,
   "metadata": {},
   "outputs": [
    {
     "data": {
      "text/plain": [
       "35.0"
      ]
     },
     "execution_count": 10,
     "metadata": {},
     "output_type": "execute_result"
    }
   ],
   "source": [
    "# %failed- failedPercentage(filepath)\n",
    "def failpercentage(filepath):\n",
    "    mc=0\n",
    "    count=0\n",
    "    with open(filepath,'r') as f:\n",
    "        for i in f:\n",
    "            mc=mc+1\n",
    "            if(int(i)<=35):\n",
    "                count=count+1\n",
    "        return (count/mc)*100\n",
    "failpercentage('Data Files/mm.txt')"
   ]
  },
  {
   "cell_type": "code",
   "execution_count": 28,
   "metadata": {},
   "outputs": [
    {
     "name": "stdout",
     "output_type": "stream",
     "text": [
      "30.0\n"
     ]
    },
    {
     "ename": "TypeError",
     "evalue": "unsupported operand type(s) for -: 'int' and 'NoneType'",
     "output_type": "error",
     "traceback": [
      "\u001b[1;31m---------------------------------------------------------------------------\u001b[0m",
      "\u001b[1;31mTypeError\u001b[0m                                 Traceback (most recent call last)",
      "\u001b[1;32m<ipython-input-28-b3b5085e2746>\u001b[0m in \u001b[0;36m<module>\u001b[1;34m\u001b[0m\n\u001b[0;32m      3\u001b[0m     \u001b[0mf\u001b[0m\u001b[1;33m.\u001b[0m\u001b[0mcount\u001b[0m\u001b[1;33m=\u001b[0m\u001b[1;36m100\u001b[0m \u001b[1;33m-\u001b[0m \u001b[0mpercentage\u001b[0m\u001b[1;33m(\u001b[0m\u001b[0mfilepath\u001b[0m\u001b[1;33m)\u001b[0m\u001b[1;33m\u001b[0m\u001b[1;33m\u001b[0m\u001b[0m\n\u001b[0;32m      4\u001b[0m     \u001b[1;32mreturn\u001b[0m \u001b[0mf\u001b[0m\u001b[1;33m.\u001b[0m\u001b[0mcount\u001b[0m\u001b[1;33m\u001b[0m\u001b[1;33m\u001b[0m\u001b[0m\n\u001b[1;32m----> 5\u001b[1;33m \u001b[0mfailedpercentage\u001b[0m\u001b[1;33m(\u001b[0m\u001b[1;34m'Data Files/mm.txt'\u001b[0m\u001b[1;33m)\u001b[0m\u001b[1;33m\u001b[0m\u001b[1;33m\u001b[0m\u001b[0m\n\u001b[0m",
      "\u001b[1;32m<ipython-input-28-b3b5085e2746>\u001b[0m in \u001b[0;36mfailedpercentage\u001b[1;34m(filepath)\u001b[0m\n\u001b[0;32m      1\u001b[0m \u001b[1;31m#another procedure of failedPercentage\u001b[0m\u001b[1;33m\u001b[0m\u001b[1;33m\u001b[0m\u001b[1;33m\u001b[0m\u001b[0m\n\u001b[0;32m      2\u001b[0m \u001b[1;32mdef\u001b[0m \u001b[0mfailedpercentage\u001b[0m\u001b[1;33m(\u001b[0m\u001b[0mfilepath\u001b[0m\u001b[1;33m)\u001b[0m\u001b[1;33m:\u001b[0m\u001b[1;33m\u001b[0m\u001b[1;33m\u001b[0m\u001b[0m\n\u001b[1;32m----> 3\u001b[1;33m     \u001b[0mf\u001b[0m\u001b[1;33m.\u001b[0m\u001b[0mcount\u001b[0m\u001b[1;33m=\u001b[0m\u001b[1;36m100\u001b[0m \u001b[1;33m-\u001b[0m \u001b[0mpercentage\u001b[0m\u001b[1;33m(\u001b[0m\u001b[0mfilepath\u001b[0m\u001b[1;33m)\u001b[0m\u001b[1;33m\u001b[0m\u001b[1;33m\u001b[0m\u001b[0m\n\u001b[0m\u001b[0;32m      4\u001b[0m     \u001b[1;32mreturn\u001b[0m \u001b[0mf\u001b[0m\u001b[1;33m.\u001b[0m\u001b[0mcount\u001b[0m\u001b[1;33m\u001b[0m\u001b[1;33m\u001b[0m\u001b[0m\n\u001b[0;32m      5\u001b[0m \u001b[0mfailedpercentage\u001b[0m\u001b[1;33m(\u001b[0m\u001b[1;34m'Data Files/mm.txt'\u001b[0m\u001b[1;33m)\u001b[0m\u001b[1;33m\u001b[0m\u001b[1;33m\u001b[0m\u001b[0m\n",
      "\u001b[1;31mTypeError\u001b[0m: unsupported operand type(s) for -: 'int' and 'NoneType'"
     ]
    }
   ],
   "source": [
    "#another procedure of failedPercentage\n",
    "def failedpercentage(filepath):\n",
    "    f.count=100 - percentage(filepath)\n",
    "    return f.count\n",
    "failedpercentage('Data Files/mm.txt')"
   ]
  },
  {
   "cell_type": "code",
   "execution_count": 11,
   "metadata": {},
   "outputs": [
    {
     "data": {
      "text/plain": [
       "35.0"
      ]
     },
     "execution_count": 11,
     "metadata": {},
     "output_type": "execute_result"
    }
   ],
   "source": [
    "#Distinction - dist%(filepath)\n",
    "def distinction(filepath):\n",
    "    mc=0\n",
    "    count=0\n",
    "    with open(filepath,'r') as f:\n",
    "        for i in f:\n",
    "            mc=mc+1\n",
    "            if(int(i)>=75):\n",
    "                count=count+1\n",
    "        return (count/mc)*100\n",
    "distinction('Data Files/mm.txt')"
   ]
  },
  {
   "cell_type": "code",
   "execution_count": 12,
   "metadata": {},
   "outputs": [
    {
     "name": "stdout",
     "output_type": "stream",
     "text": [
      "95\n"
     ]
    },
    {
     "data": {
      "text/plain": [
       "1"
      ]
     },
     "execution_count": 12,
     "metadata": {},
     "output_type": "execute_result"
    }
   ],
   "source": [
    "# Frequency of Highestmark - frequencyHighest(filepath)\n",
    "def frequencyHighest(filepath):\n",
    "    with open(filepath,'r') as f:\n",
    "        sp=f.read().split()\n",
    "        sp=list(map(int,sp))\n",
    "        #sp=list(map(str,sp)) #for convert into string\n",
    "        print(max(sp))\n",
    "        return sp.count(max(sp))\n",
    "frequencyHighest('Data Files/mm.txt')"
   ]
  },
  {
   "cell_type": "code",
   "execution_count": 13,
   "metadata": {},
   "outputs": [
    {
     "name": "stdout",
     "output_type": "stream",
     "text": [
      "1\n"
     ]
    },
    {
     "data": {
      "text/plain": [
       "1"
      ]
     },
     "execution_count": 13,
     "metadata": {},
     "output_type": "execute_result"
    }
   ],
   "source": [
    "# Frequency of Highestmark - frequencyHighest(filepath)\n",
    "def frequencyLowest(filepath):\n",
    "    with open(filepath,'r') as f:\n",
    "        sp=f.read().split()\n",
    "        sp=list(map(int,sp))\n",
    "        #sp=list(map(str,sp)) #for convert into string\n",
    "        print(min(sp))\n",
    "        return sp.count(min(sp))\n",
    "frequencyLowest('Data Files/mm.txt')"
   ]
  },
  {
   "cell_type": "code",
   "execution_count": 14,
   "metadata": {},
   "outputs": [
    {
     "name": "stdout",
     "output_type": "stream",
     "text": [
      "Choose option:\n",
      " 1.generatemarks2:\n",
      " 2.classAverage:\n",
      " 3.passpercentage:\n",
      " 4.failpercentage:\n",
      " 5.distinction:\n",
      " 6.frequencyHighest:\n",
      " 7.frequencyLowest\n",
      ":1\n",
      "Enter No of Students marks40\n",
      "None\n",
      "enter marks60\n",
      "Choose option:\n",
      " 1.generatemarks2:\n",
      " 2.classAverage:\n",
      " 3.passpercentage:\n",
      " 4.failpercentage:\n",
      " 5.distinction:\n",
      " 6.frequencyHighest:\n",
      " 7.frequencyLowest\n",
      ":2\n",
      "Enter No of Students marks40\n",
      "49.425\n",
      "Choose option:\n",
      " 1.generatemarks2:\n",
      " 2.classAverage:\n",
      " 3.passpercentage:\n",
      " 4.failpercentage:\n",
      " 5.distinction:\n",
      " 6.frequencyHighest:\n",
      " 7.frequencyLowest\n",
      ":3\n",
      "Enter No of Students marks40\n",
      "70.0\n",
      "Choose option:\n",
      " 1.generatemarks2:\n",
      " 2.classAverage:\n",
      " 3.passpercentage:\n",
      " 4.failpercentage:\n",
      " 5.distinction:\n",
      " 6.frequencyHighest:\n",
      " 7.frequencyLowest\n",
      ":4\n",
      "Enter No of Students marks40\n",
      "37.5\n",
      "Choose option:\n",
      " 1.generatemarks2:\n",
      " 2.classAverage:\n",
      " 3.passpercentage:\n",
      " 4.failpercentage:\n",
      " 5.distinction:\n",
      " 6.frequencyHighest:\n",
      " 7.frequencyLowest\n",
      ":6\n",
      "Enter No of Students marks40\n",
      "100\n",
      "1\n",
      "Choose option:\n",
      " 1.generatemarks2:\n",
      " 2.classAverage:\n",
      " 3.passpercentage:\n",
      " 4.failpercentage:\n",
      " 5.distinction:\n",
      " 6.frequencyHighest:\n",
      " 7.frequencyLowest\n",
      ":5\n",
      "Enter No of Students marks40\n",
      "30.0\n",
      "Choose option:\n",
      " 1.generatemarks2:\n",
      " 2.classAverage:\n",
      " 3.passpercentage:\n",
      " 4.failpercentage:\n",
      " 5.distinction:\n",
      " 6.frequencyHighest:\n",
      " 7.frequencyLowest\n",
      ":7\n",
      "Enter No of Students marks40\n",
      "1\n",
      "2\n",
      "Choose option:\n",
      " 1.generatemarks2:\n",
      " 2.classAverage:\n",
      " 3.passpercentage:\n",
      " 4.failpercentage:\n",
      " 5.distinction:\n",
      " 6.frequencyHighest:\n",
      " 7.frequencyLowest\n",
      ":\n"
     ]
    },
    {
     "ename": "ValueError",
     "evalue": "invalid literal for int() with base 10: ''",
     "output_type": "error",
     "traceback": [
      "\u001b[1;31m---------------------------------------------------------------------------\u001b[0m",
      "\u001b[1;31mValueError\u001b[0m                                Traceback (most recent call last)",
      "\u001b[1;32m<ipython-input-14-4280a5341184>\u001b[0m in \u001b[0;36m<module>\u001b[1;34m\u001b[0m\n\u001b[0;32m     22\u001b[0m         \u001b[1;32melse\u001b[0m\u001b[1;33m:\u001b[0m\u001b[1;33m\u001b[0m\u001b[1;33m\u001b[0m\u001b[0m\n\u001b[0;32m     23\u001b[0m             \u001b[1;32mbreak\u001b[0m\u001b[1;33m\u001b[0m\u001b[1;33m\u001b[0m\u001b[0m\n\u001b[1;32m---> 24\u001b[1;33m \u001b[0mmarkAnalysis\u001b[0m\u001b[1;33m(\u001b[0m\u001b[1;34m'Data Files/mm.txt'\u001b[0m\u001b[1;33m)\u001b[0m\u001b[1;33m\u001b[0m\u001b[1;33m\u001b[0m\u001b[0m\n\u001b[0m\u001b[0;32m     25\u001b[0m \u001b[1;33m\u001b[0m\u001b[0m\n",
      "\u001b[1;32m<ipython-input-14-4280a5341184>\u001b[0m in \u001b[0;36mmarkAnalysis\u001b[1;34m(filepath)\u001b[0m\n\u001b[0;32m      2\u001b[0m \u001b[1;32mdef\u001b[0m \u001b[0mmarkAnalysis\u001b[0m\u001b[1;33m(\u001b[0m\u001b[0mfilepath\u001b[0m\u001b[1;33m)\u001b[0m\u001b[1;33m:\u001b[0m\u001b[1;33m\u001b[0m\u001b[1;33m\u001b[0m\u001b[0m\n\u001b[0;32m      3\u001b[0m     \u001b[1;32mwhile\u001b[0m \u001b[1;32mTrue\u001b[0m\u001b[1;33m:\u001b[0m\u001b[1;33m\u001b[0m\u001b[1;33m\u001b[0m\u001b[0m\n\u001b[1;32m----> 4\u001b[1;33m         \u001b[0mn\u001b[0m\u001b[1;33m=\u001b[0m\u001b[0mint\u001b[0m\u001b[1;33m(\u001b[0m\u001b[0minput\u001b[0m\u001b[1;33m(\u001b[0m\u001b[1;34m\"Choose option:\\n 1.generatemarks2:\\n 2.classAverage:\\n 3.passpercentage:\\n 4.failpercentage:\\n 5.distinction:\\n 6.frequencyHighest:\\n 7.frequencyLowest\\n:\"\u001b[0m\u001b[1;33m)\u001b[0m\u001b[1;33m)\u001b[0m\u001b[1;33m\u001b[0m\u001b[1;33m\u001b[0m\u001b[0m\n\u001b[0m\u001b[0;32m      5\u001b[0m         \u001b[0mst\u001b[0m\u001b[1;33m=\u001b[0m\u001b[0mint\u001b[0m\u001b[1;33m(\u001b[0m\u001b[0minput\u001b[0m\u001b[1;33m(\u001b[0m\u001b[1;34m\"Enter No of Students marks\"\u001b[0m\u001b[1;33m)\u001b[0m\u001b[1;33m)\u001b[0m\u001b[1;33m\u001b[0m\u001b[1;33m\u001b[0m\u001b[0m\n\u001b[0;32m      6\u001b[0m         \u001b[0mgeneratemarks2\u001b[0m\u001b[1;33m(\u001b[0m\u001b[0mst\u001b[0m\u001b[1;33m,\u001b[0m\u001b[1;36m1\u001b[0m\u001b[1;33m,\u001b[0m\u001b[1;36m100\u001b[0m\u001b[1;33m)\u001b[0m\u001b[1;33m\u001b[0m\u001b[1;33m\u001b[0m\u001b[0m\n",
      "\u001b[1;31mValueError\u001b[0m: invalid literal for int() with base 10: ''"
     ]
    }
   ],
   "source": [
    "# marks analysis\n",
    "def markAnalysis(filepath):\n",
    "    while True:\n",
    "        n=int(input(\"Choose option:\\n 1.generatemarks2:\\n 2.classAverage:\\n 3.passpercentage:\\n 4.failpercentage:\\n 5.distinction:\\n 6.frequencyHighest:\\n 7.frequencyLowest\\n:\"))\n",
    "        st=int(input(\"Enter No of Students marks\"))\n",
    "        generatemarks2(st,1,100)\n",
    "        if(n==1):\n",
    "            print(generatemarks2(50,1,100))\n",
    "            st=int(input(\"enter marks\"))\n",
    "        elif(n==2):\n",
    "            print(classAverage(filepath))\n",
    "        elif(n==3):\n",
    "            print(passpercentage(filepath))\n",
    "        elif(n==4):\n",
    "            print(failpercentage(filepath))\n",
    "        elif(n==5):\n",
    "            print(distinction(filepath))\n",
    "        elif(n==6):\n",
    "            print(frequencyHighest(filepath))\n",
    "        elif(n==7):\n",
    "            print(frequencyLowest(filepath))\n",
    "        else:\n",
    "            break\n",
    "markAnalysis('Data Files/mm.txt')\n",
    "         "
   ]
  },
  {
   "cell_type": "code",
   "execution_count": null,
   "metadata": {},
   "outputs": [],
   "source": []
  },
  {
   "cell_type": "code",
   "execution_count": null,
   "metadata": {},
   "outputs": [],
   "source": []
  },
  {
   "cell_type": "code",
   "execution_count": null,
   "metadata": {},
   "outputs": [],
   "source": []
  },
  {
   "cell_type": "code",
   "execution_count": null,
   "metadata": {},
   "outputs": [],
   "source": []
  },
  {
   "cell_type": "code",
   "execution_count": null,
   "metadata": {},
   "outputs": [],
   "source": []
  },
  {
   "cell_type": "code",
   "execution_count": null,
   "metadata": {},
   "outputs": [],
   "source": []
  },
  {
   "cell_type": "code",
   "execution_count": null,
   "metadata": {},
   "outputs": [],
   "source": []
  },
  {
   "cell_type": "code",
   "execution_count": 4,
   "metadata": {},
   "outputs": [],
   "source": [
    "from random import randint\n",
    "def generatemarks(n,lb,ub):\n",
    "    with open('Data Files/exmmarks.txt','w') as f:\n",
    "        for i in range(0,n):\n",
    "            r=randint(0,25)\n",
    "            f.write(str(r)+'      ')\n",
    "            r1=randint(0,25)\n",
    "            f.write(str(r1)+ '     ')\n",
    "            r2=randint(0,75)\n",
    "            f.write(str(r2)+ '    \\n')\n",
    "        return\n",
    "generatemarks(30,0,75)"
   ]
  },
  {
   "cell_type": "code",
   "execution_count": null,
   "metadata": {},
   "outputs": [],
   "source": []
  }
 ],
 "metadata": {
  "kernelspec": {
   "display_name": "Python 3",
   "language": "python",
   "name": "python3"
  },
  "language_info": {
   "codemirror_mode": {
    "name": "ipython",
    "version": 3
   },
   "file_extension": ".py",
   "mimetype": "text/x-python",
   "name": "python",
   "nbconvert_exporter": "python",
   "pygments_lexer": "ipython3",
   "version": "3.7.3"
  }
 },
 "nbformat": 4,
 "nbformat_minor": 2
}
