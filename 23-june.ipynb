{
 "cells": [
  {
   "cell_type": "code",
   "execution_count": 14,
   "metadata": {},
   "outputs": [
    {
     "data": {
      "text/plain": [
       "'new data\\nline 1\\niine 2\\nline 3'"
      ]
     },
     "execution_count": 14,
     "metadata": {},
     "output_type": "execute_result"
    }
   ],
   "source": [
    "#Each element \n",
    "def readfileintolist(filepath):\n",
    "    with open(filepath,'r')as f:\n",
    "        filedata=f.read() \n",
    "    return filedata\n",
    "filepath='Data Files/data.txt'\n",
    "readfileintolist(filepath)\n"
   ]
  },
  {
   "cell_type": "code",
   "execution_count": 3,
   "metadata": {},
   "outputs": [
    {
     "name": "stdout",
     "output_type": "stream",
     "text": [
      "['new data', 'line 1', 'iine 2', 'line 3']\n"
     ]
    }
   ],
   "source": [
    "# Read a File - File should Exist in some part of the sotorage (Read Mode)\n",
    "\n",
    "# Write to a File - Existing( append mode)  or New File(Write mode)\n",
    "def readFile(filepath):\n",
    "    with open(filepath, 'r') as f:\n",
    "        filedata = f.read()\n",
    "        lines=filedata.split('\\n')\n",
    "    return lines\n",
    "\n",
    "filepath = 'Data Files/data.txt'\n",
    "print(readFile(filepath))\n"
   ]
  },
  {
   "cell_type": "code",
   "execution_count": 4,
   "metadata": {},
   "outputs": [
    {
     "data": {
      "text/plain": [
       "4"
      ]
     },
     "execution_count": 4,
     "metadata": {},
     "output_type": "execute_result"
    }
   ],
   "source": [
    "# Function to count number of lines in a file\n",
    "\n",
    "def countLinesFile(filepath):\n",
    "    count=len(readFile(filepath))\n",
    "    return count\n",
    "countLinesFile('Data Files/data.txt')\n"
   ]
  },
  {
   "cell_type": "code",
   "execution_count": 22,
   "metadata": {},
   "outputs": [
    {
     "data": {
      "text/plain": [
       "['Data', 'Files/data.txt']"
      ]
     },
     "execution_count": 22,
     "metadata": {},
     "output_type": "execute_result"
    }
   ],
   "source": [
    "import re\n",
    "def wordcountFile(filepath):\n",
    "    pattern='[ \\n]'\n",
    "    filepath='Data Files/data.txt'\n",
    "    #filepath='Data Files\\data.txt'\n",
    "    filedata =filepath\n",
    "    count=len(re.split(pattern,filedata))\n",
    "    return count\n",
    "# wordcountFile(filepath)\n",
    "\n",
    "def wordFromFile(filepath):\n",
    "    pattern='[ \\n]'\n",
    "    filepath='Data Files/data.txt'\n",
    "    filedata =filepath\n",
    "    allWordsList=re.split(pattern,filedata)\n",
    "    return allWordsList\n",
    "wordFromFile(filepath)\n"
   ]
  },
  {
   "cell_type": "code",
   "execution_count": 5,
   "metadata": {},
   "outputs": [
    {
     "data": {
      "text/plain": [
       "[1, 2, 3]"
      ]
     },
     "execution_count": 5,
     "metadata": {},
     "output_type": "execute_result"
    }
   ],
   "source": [
    "#Function to get unique elements in a list\n",
    "\n",
    "#[1,2,3,3,2,1] -> [1,2,3]\n",
    "#create a empty unique list [1]\n",
    "\n",
    "def uniqueData(li):\n",
    "    \n",
    "    #Create an empty unique list\n",
    "    emptylist=[]\n",
    "    #For every element in the main list\n",
    "    #check if it exists in the unique list.\n",
    "    # If it does not exist, add it to unique list\n",
    "    # else if it already exists,move on to\n",
    "    for element in li:\n",
    "        if element not in emptylist:\n",
    "            emptylist.append(element)\n",
    "    return emptylist\n",
    "li=[1,2,3,3,2,1]\n",
    "uniqueData(li)\n",
    "\n"
   ]
  },
  {
   "cell_type": "code",
   "execution_count": 6,
   "metadata": {},
   "outputs": [
    {
     "data": {
      "text/plain": [
       "3"
      ]
     },
     "execution_count": 6,
     "metadata": {},
     "output_type": "execute_result"
    }
   ],
   "source": [
    "def uniqueDataCount(li):\n",
    "    \n",
    "    #Create an empty unique list\n",
    "    emptylist=[]\n",
    "    #For every element in the main list.\n",
    "    #check if it exists in the unique list.\n",
    "    # If it does not exist, add it to unique list\n",
    "    # else if it already exists,move on to\n",
    "    for element in li:\n",
    "        if element not in emptylist:\n",
    "            emptylist.append(element)\n",
    "    return len(emptylist)\n",
    "li=[1,2,3,3,2,1]\n",
    "uniqueDataCount(li)"
   ]
  },
  {
   "cell_type": "code",
   "execution_count": null,
   "metadata": {},
   "outputs": [],
   "source": [
    "#Function  to count the number of unique word"
   ]
  },
  {
   "cell_type": "code",
   "execution_count": 28,
   "metadata": {},
   "outputs": [
    {
     "data": {
      "text/plain": [
       "{'Data': 1, 'Files/data.txt': 1}"
      ]
     },
     "execution_count": 28,
     "metadata": {},
     "output_type": "execute_result"
    }
   ],
   "source": [
    "#Function to print the frequency count of all words in a file\n",
    "#Data in line 1\n",
    "#Data in line 2\n",
    "#Data in line 3\n",
    "#o/p\n",
    "#Data:3\n",
    "# in:3\n",
    "#line:3\n",
    "#1:1\n",
    "#2:1\n",
    "#3:1\n",
    "\n",
    "def FreqDistributionOfWords1(filepath):\n",
    "    #Dictionary to be used\n",
    "        # keys-> unique words\n",
    "        #values -> count of unique words\n",
    "    #Two lists\n",
    "        # AllWords list -\n",
    "        # UniqueWords list -\n",
    "    # Set\n",
    "    allwords = wordsFromFile(filepath)\n",
    "    uniquewords=uniqueData(filepath)\n",
    "    \n",
    "    for word in uniquewords:\n",
    "        count = allwords.count(word)\n",
    "        print(word,':',count)\n",
    "    return\n",
    "def FreqDistributionOfWords2(filepath):\n",
    "    allwords =wordFromFile(filepath)\n",
    "    wordFrequency={}\n",
    "    \n",
    "    for word in allwords:\n",
    "        if word not in wordFrequency.keys():\n",
    "            wordFrequency[word]=1\n",
    "        else:\n",
    "            wordFrequency[word] +=1\n",
    "    return wordFrequency\n",
    "FreqDistributionOfWords2(filepath)\n",
    "        \n",
    "        "
   ]
  },
  {
   "cell_type": "code",
   "execution_count": 19,
   "metadata": {},
   "outputs": [
    {
     "data": {
      "text/plain": [
       "4"
      ]
     },
     "execution_count": 19,
     "metadata": {},
     "output_type": "execute_result"
    }
   ],
   "source": [
    "def charcount(filepath):\n",
    "    count=len(readFile(filepath))\n",
    "    return count\n",
    "charcount('Data Files/data.txt')\n"
   ]
  },
  {
   "cell_type": "code",
   "execution_count": 20,
   "metadata": {},
   "outputs": [
    {
     "name": "stdout",
     "output_type": "stream",
     "text": [
      "['n', 'e', 'w', ' ', 'd', 'a', 't', '\\n', 'l', 'i', '1', '2', '3']\n"
     ]
    }
   ],
   "source": [
    "# Function to find the unique words of the data in a file\n",
    "def Unique(filePath):\n",
    "    unique=[]\n",
    "    with open(filePath, 'r') as f:\n",
    "        filedata=f.read()\n",
    "        for i in filedata:\n",
    "            if i not in unique:\n",
    "                unique.append(i)\n",
    "        print(unique)\n",
    "\n",
    "filePath = 'Data Files/data.txt'\n",
    "Unique(filePath)\n"
   ]
  },
  {
   "cell_type": "code",
   "execution_count": null,
   "metadata": {},
   "outputs": [],
   "source": [
    "# Contacts Application\n",
    "    #Add, Search, List, Modify Delete contacts\n",
    "# Find and Replace Application\n",
    "    #Count the total number of occurances of a word\n",
    "    # If word is existing\n",
    "    #replace all occurances of a word with another word\n",
    "#Marks Analysis Application\n",
    "    #Generate marks file fon n students\n",
    "    # Input:Markd text file-each line contains\n",
    "    # Generates a report with the following info\n",
    "        #Class Average\n",
    "        # % of Students passed\n",
    "        # % of students failed\n",
    "        # % of students with distinction"
   ]
  },
  {
   "cell_type": "code",
   "execution_count": null,
   "metadata": {},
   "outputs": [],
   "source": [
    "# Function to generate marks data for n se\n",
    "from random import randint\n",
    "def generateMarks(n,lb,ub):\n",
    "    with open('Data Files/marks.txt','w')as f:\n",
    "        for i in range(0,n):\n",
    "            r=randint(lb,ub)\n",
    "            f.write(str(r)+'\\n')\n",
    "    return \n",
    "generateMarks(30,0,100)\n",
    "    "
   ]
  },
  {
   "cell_type": "code",
   "execution_count": null,
   "metadata": {},
   "outputs": [],
   "source": []
  },
  {
   "cell_type": "code",
   "execution_count": null,
   "metadata": {},
   "outputs": [],
   "source": []
  }
 ],
 "metadata": {
  "kernelspec": {
   "display_name": "Python 3",
   "language": "python",
   "name": "python3"
  },
  "language_info": {
   "codemirror_mode": {
    "name": "ipython",
    "version": 3
   },
   "file_extension": ".py",
   "mimetype": "text/x-python",
   "name": "python",
   "nbconvert_exporter": "python",
   "pygments_lexer": "ipython3",
   "version": "3.7.3"
  }
 },
 "nbformat": 4,
 "nbformat_minor": 2
}
