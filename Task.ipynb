{
 "cells": [
  {
   "cell_type": "code",
   "execution_count": 1,
   "metadata": {},
   "outputs": [
    {
     "name": "stdout",
     "output_type": "stream",
     "text": [
      "1401601499\n",
      "Legal ISBN\n"
     ]
    }
   ],
   "source": [
    "def book(n):\n",
    "    s=0\n",
    "    c=1\n",
    "    if len(n)==10:\n",
    "        for i in n:\n",
    "            s+=int(i)*c\n",
    "            c+=1\n",
    "        if s%11==0:\n",
    "            print('Legal ISBN')\n",
    "        else:\n",
    "            print('Illegal ISBN')\n",
    "            \n",
    "    else:\n",
    "        print('Illegal ISBN')\n",
    "        \n",
    "n=input()\n",
    "book(n)"
   ]
  },
  {
   "cell_type": "code",
   "execution_count": 18,
   "metadata": {},
   "outputs": [
    {
     "name": "stdout",
     "output_type": "stream",
     "text": [
      "1401601499\n",
      "Legal ISBN\n"
     ]
    }
   ],
   "source": [
    "def isValid(n):\n",
    "    if (len(n) == 10):\n",
    "        sum = 1\n",
    "        for i in n:\n",
    "            res = int(i) * sum\n",
    "            sum = sum + 1\n",
    "        if (sum % 11 == 0):\n",
    "            print(\"Legal ISBN\")\n",
    "    else:\n",
    "        print(\"Illigal ISBN\")\n",
    "n=input()\n",
    "isValid(n)"
   ]
  },
  {
   "cell_type": "code",
   "execution_count": null,
   "metadata": {},
   "outputs": [],
   "source": []
  }
 ],
 "metadata": {
  "kernelspec": {
   "display_name": "Python 3",
   "language": "python",
   "name": "python3"
  },
  "language_info": {
   "codemirror_mode": {
    "name": "ipython",
    "version": 3
   },
   "file_extension": ".py",
   "mimetype": "text/x-python",
   "name": "python",
   "nbconvert_exporter": "python",
   "pygments_lexer": "ipython3",
   "version": "3.7.3"
  }
 },
 "nbformat": 4,
 "nbformat_minor": 2
}
